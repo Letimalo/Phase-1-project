{
 "cells": [
  {
   "cell_type": "markdown",
   "id": "7ffab2b6-95db-4adc-9ed4-8fed6c36e7cf",
   "metadata": {},
   "source": [
    "### 1. Introduction."
   ]
  },
  {
   "cell_type": "markdown",
   "id": "79047a8d-3eed-448c-a0c3-d5932f9fe082",
   "metadata": {},
   "source": [
    "In this notebook we perform meaningful exploratory data analysis of aviation accident dataset from 1963\n",
    "to 2023 in order to determine potential risks of aircrafts."
   ]
  },
  {
   "cell_type": "markdown",
   "id": "7c9845fc-aa7f-4f1d-aeaa-7a4176c91a62",
   "metadata": {},
   "source": [
    "### 2. Business Understanding."
   ]
  },
  {
   "cell_type": "markdown",
   "id": "9e232c79-7beb-40d2-9559-0fe18d9ad59d",
   "metadata": {},
   "source": [
    "This project uses data from the National Transportation Safety Board that includes aviation accident data from 1962 to 2023 about civil aviation accidents and selected incidents in the United States and international waters. It is done for the purpose of recommendation to a prospective organization that is seeking to expand into a new industry involving purchase and operation of airplanes for commercial and private enterprises and focuses on the potential risks of aircraft."
   ]
  },
  {
   "attachments": {},
   "cell_type": "markdown",
   "id": "01e19e8e-607f-4af1-ad5f-b5daba280b0c",
   "metadata": {},
   "source": [
    "### 3. Main Objective."
   ]
  },
  {
   "cell_type": "markdown",
   "id": "1dc62453-b810-4f8e-bbee-41a2eb4d1933",
   "metadata": {},
   "source": [
    "The main objective is to recommend safest aeroplanes to be purchased."
   ]
  },
  {
   "cell_type": "markdown",
   "id": "0af25fdd-0878-413c-b642-205547be2302",
   "metadata": {},
   "source": [
    "### 4. Specific Objectives."
   ]
  },
  {
   "cell_type": "markdown",
   "id": "6ec6a276-a9c7-4d26-9c84-d57a2ce6f0f4",
   "metadata": {},
   "source": [
    "1. Cleaning of the dataset.\n",
    "2. Determining best makes for commercial use.\n",
    "3. Determining best makes for private use.\n",
    "4. Plotting graphs to determine safest aeroplane for commercial and private enterprises."
   ]
  },
  {
   "cell_type": "markdown",
   "id": "c753f912-1e59-44b5-b3cd-19e0ff88d652",
   "metadata": {},
   "source": [
    "### 5.Data Understanding."
   ]
  },
  {
   "cell_type": "markdown",
   "id": "2232621e-4e90-4a76-bcfb-f03b55848847",
   "metadata": {},
   "source": [
    "## Understanding."
   ]
  },
  {
   "cell_type": "markdown",
   "id": "bca46734-970a-436f-90bb-a77aebd5922d",
   "metadata": {},
   "source": [
    "This data was sourced from kaggle. It describes information about accidents and select incidents \n",
    "in the United States and International waters."
   ]
  },
  {
   "cell_type": "markdown",
   "id": "fb73db5d-fe68-4bbf-8e8f-4169fc01cf3d",
   "metadata": {},
   "source": [
    "## Attributes."
   ]
  },
  {
   "cell_type": "markdown",
   "id": "be5af942-3cea-488f-813d-52eb9f502fd2",
   "metadata": {},
   "source": [
    "The dataset has 31 attributes and 88889 records, here is what they represent;\n"
   ]
  },
  {
   "cell_type": "markdown",
   "id": "696c011e-d015-45d6-9162-84d9c93ab24c",
   "metadata": {},
   "source": [
    "1. Event ID - this is a unique identification code for all events in the dataset.\n",
    "2. Investigation type- indicates whether it was an accident or incident.\n",
    "3. Accident number - Gives the number of event in the records.\n",
    "4. Event date - gives the date the event occured.\n",
    "5. Location - Gives the city or state the event occurred.\n",
    "6. Country - Indicates the country the aeroplane is from also event occurrence. this data has mostly US\n",
    "7. Latitude - latitude of event occurrence.\n",
    "8. Longitude - longitude of event occurrence.\n",
    "9. Airport code - unique code identifier for the airport.\n",
    "10. Airport name - the name of airport owning plane involved in event.\n",
    "11. Injury Severity - The degree of injury inflicted on passengers i.e fatal, non-fatal and incident.\n",
    "12. Aircraft damage - damage to the airplane whether minor, substantial or destroyed.\n",
    "13. Aircraft category - shows the classes of aircraft in the dataset which are helicopter, airplane, glider, powered parachute, gyrocraft and weight-shift.\n",
    "14. Registration number - this is the registration number of aircraft involved in event.\n",
    "15. Make - this refers to the manufacturing company of the various aircraft to be analysed.\n",
    "16. Model - this is the model of the specific make of aircraft.\n",
    "17. Amateur built - Indicates whether it is an amateur built or not.\n",
    "18. Number of Engines - refers to how many engines the aircraft has.\n",
    "19. Engine type - indicates what type of engine the aircraft has.\n",
    "20. FAR description - refers to the Federal Aviation Regulations that govern all aviation activities in US.\n",
    "21. Schedule - this is the index of the schedule for the aircraft.\n",
    "22. Purpose of flight - explains what the aircraft is used for.\n",
    "23. Air carrier - gives name of company or aviation school.\n",
    "24. Total fatal injuries - count for fatal injuries per event.\n",
    "25. Total serious injuries - count for serious injuries per event.\n",
    "26. Total minor injuries - count for minor injuries per event.\n",
    "27. Total uninjuried - count for uninjuried passengers per event.\n",
    "28. Weather condition - code for weather conditions during event.\n",
    "29. Broad phase of light - indicates at which instance the event occurred.\n",
    "30. report status - describes cause of event.\n",
    "31. Publication date - gives the date of publication of event."
   ]
  },
  {
   "cell_type": "code",
   "execution_count": null,
   "id": "36f721d9-96f6-4f34-832c-c3f5bcb22eaa",
   "metadata": {},
   "outputs": [],
   "source": []
  },
  {
   "cell_type": "code",
   "execution_count": 91,
   "id": "b32cd79e-9613-49e2-b5db-52942085c72b",
   "metadata": {},
   "outputs": [],
   "source": [
    "import matplotlib.pyplot as plt\n",
    "import pandas as pd\n",
    "import numpy as np\n",
    "import seaborn as sns"
   ]
  },
  {
   "cell_type": "markdown",
   "id": "2921e52e-c770-469f-a1d4-91ce52364149",
   "metadata": {},
   "source": [
    "loading data"
   ]
  },
  {
   "cell_type": "code",
   "execution_count": 92,
   "id": "7292e1c2-40e3-445f-a12f-78ac250700f1",
   "metadata": {},
   "outputs": [],
   "source": [
    "data = pd.read_csv('AviationData.csv', encoding='latin-1', low_memory=False)"
   ]
  },
  {
   "cell_type": "code",
   "execution_count": 93,
   "id": "e1723393-02b6-4084-a8bc-8405ab3a06f7",
   "metadata": {},
   "outputs": [
    {
     "data": {
      "text/plain": [
       "pandas.core.frame.DataFrame"
      ]
     },
     "execution_count": 93,
     "metadata": {},
     "output_type": "execute_result"
    }
   ],
   "source": [
    "type(data) # this shows the type of the data to be analysed."
   ]
  },
  {
   "cell_type": "code",
   "execution_count": 94,
   "id": "80e6cdf1-bc08-448d-958e-24474c22a304",
   "metadata": {},
   "outputs": [
    {
     "name": "stdout",
     "output_type": "stream",
     "text": [
      "<class 'pandas.core.frame.DataFrame'>\n",
      "RangeIndex: 88889 entries, 0 to 88888\n",
      "Data columns (total 31 columns):\n",
      " #   Column                  Non-Null Count  Dtype  \n",
      "---  ------                  --------------  -----  \n",
      " 0   Event.Id                88889 non-null  object \n",
      " 1   Investigation.Type      88889 non-null  object \n",
      " 2   Accident.Number         88889 non-null  object \n",
      " 3   Event.Date              88889 non-null  object \n",
      " 4   Location                88837 non-null  object \n",
      " 5   Country                 88663 non-null  object \n",
      " 6   Latitude                34382 non-null  object \n",
      " 7   Longitude               34373 non-null  object \n",
      " 8   Airport.Code            50132 non-null  object \n",
      " 9   Airport.Name            52704 non-null  object \n",
      " 10  Injury.Severity         87889 non-null  object \n",
      " 11  Aircraft.damage         85695 non-null  object \n",
      " 12  Aircraft.Category       32287 non-null  object \n",
      " 13  Registration.Number     87507 non-null  object \n",
      " 14  Make                    88826 non-null  object \n",
      " 15  Model                   88797 non-null  object \n",
      " 16  Amateur.Built           88787 non-null  object \n",
      " 17  Number.of.Engines       82805 non-null  float64\n",
      " 18  Engine.Type             81793 non-null  object \n",
      " 19  FAR.Description         32023 non-null  object \n",
      " 20  Schedule                12582 non-null  object \n",
      " 21  Purpose.of.flight       82697 non-null  object \n",
      " 22  Air.carrier             16648 non-null  object \n",
      " 23  Total.Fatal.Injuries    77488 non-null  float64\n",
      " 24  Total.Serious.Injuries  76379 non-null  float64\n",
      " 25  Total.Minor.Injuries    76956 non-null  float64\n",
      " 26  Total.Uninjured         82977 non-null  float64\n",
      " 27  Weather.Condition       84397 non-null  object \n",
      " 28  Broad.phase.of.flight   61724 non-null  object \n",
      " 29  Report.Status           82505 non-null  object \n",
      " 30  Publication.Date        75118 non-null  object \n",
      "dtypes: float64(5), object(26)\n",
      "memory usage: 21.0+ MB\n"
     ]
    }
   ],
   "source": [
    "data.info()# this provides information about the data struci.e rows, columns, data type of columns and total entries."
   ]
  },
  {
   "cell_type": "code",
   "execution_count": null,
   "id": "cdfadc4e-ae06-4a72-a170-d257f6d59643",
   "metadata": {},
   "outputs": [],
   "source": []
  },
  {
   "cell_type": "code",
   "execution_count": 95,
   "id": "b584354e-f893-4c0b-81e5-fe66ab1348ee",
   "metadata": {},
   "outputs": [
    {
     "data": {
      "text/html": [
       "<div>\n",
       "<style scoped>\n",
       "    .dataframe tbody tr th:only-of-type {\n",
       "        vertical-align: middle;\n",
       "    }\n",
       "\n",
       "    .dataframe tbody tr th {\n",
       "        vertical-align: top;\n",
       "    }\n",
       "\n",
       "    .dataframe thead th {\n",
       "        text-align: right;\n",
       "    }\n",
       "</style>\n",
       "<table border=\"1\" class=\"dataframe\">\n",
       "  <thead>\n",
       "    <tr style=\"text-align: right;\">\n",
       "      <th></th>\n",
       "      <th>Event.Id</th>\n",
       "      <th>Investigation.Type</th>\n",
       "      <th>Accident.Number</th>\n",
       "      <th>Event.Date</th>\n",
       "      <th>Location</th>\n",
       "      <th>Country</th>\n",
       "      <th>Latitude</th>\n",
       "      <th>Longitude</th>\n",
       "      <th>Airport.Code</th>\n",
       "      <th>Airport.Name</th>\n",
       "      <th>...</th>\n",
       "      <th>Purpose.of.flight</th>\n",
       "      <th>Air.carrier</th>\n",
       "      <th>Total.Fatal.Injuries</th>\n",
       "      <th>Total.Serious.Injuries</th>\n",
       "      <th>Total.Minor.Injuries</th>\n",
       "      <th>Total.Uninjured</th>\n",
       "      <th>Weather.Condition</th>\n",
       "      <th>Broad.phase.of.flight</th>\n",
       "      <th>Report.Status</th>\n",
       "      <th>Publication.Date</th>\n",
       "    </tr>\n",
       "  </thead>\n",
       "  <tbody>\n",
       "    <tr>\n",
       "      <th>0</th>\n",
       "      <td>20001218X45444</td>\n",
       "      <td>Accident</td>\n",
       "      <td>SEA87LA080</td>\n",
       "      <td>1948-10-24</td>\n",
       "      <td>MOOSE CREEK, ID</td>\n",
       "      <td>United States</td>\n",
       "      <td>NaN</td>\n",
       "      <td>NaN</td>\n",
       "      <td>NaN</td>\n",
       "      <td>NaN</td>\n",
       "      <td>...</td>\n",
       "      <td>Personal</td>\n",
       "      <td>NaN</td>\n",
       "      <td>2.0</td>\n",
       "      <td>0.0</td>\n",
       "      <td>0.0</td>\n",
       "      <td>0.0</td>\n",
       "      <td>UNK</td>\n",
       "      <td>Cruise</td>\n",
       "      <td>Probable Cause</td>\n",
       "      <td>NaN</td>\n",
       "    </tr>\n",
       "    <tr>\n",
       "      <th>1</th>\n",
       "      <td>20001218X45447</td>\n",
       "      <td>Accident</td>\n",
       "      <td>LAX94LA336</td>\n",
       "      <td>1962-07-19</td>\n",
       "      <td>BRIDGEPORT, CA</td>\n",
       "      <td>United States</td>\n",
       "      <td>NaN</td>\n",
       "      <td>NaN</td>\n",
       "      <td>NaN</td>\n",
       "      <td>NaN</td>\n",
       "      <td>...</td>\n",
       "      <td>Personal</td>\n",
       "      <td>NaN</td>\n",
       "      <td>4.0</td>\n",
       "      <td>0.0</td>\n",
       "      <td>0.0</td>\n",
       "      <td>0.0</td>\n",
       "      <td>UNK</td>\n",
       "      <td>Unknown</td>\n",
       "      <td>Probable Cause</td>\n",
       "      <td>19-09-1996</td>\n",
       "    </tr>\n",
       "    <tr>\n",
       "      <th>2</th>\n",
       "      <td>20061025X01555</td>\n",
       "      <td>Accident</td>\n",
       "      <td>NYC07LA005</td>\n",
       "      <td>1974-08-30</td>\n",
       "      <td>Saltville, VA</td>\n",
       "      <td>United States</td>\n",
       "      <td>36.922223</td>\n",
       "      <td>-81.878056</td>\n",
       "      <td>NaN</td>\n",
       "      <td>NaN</td>\n",
       "      <td>...</td>\n",
       "      <td>Personal</td>\n",
       "      <td>NaN</td>\n",
       "      <td>3.0</td>\n",
       "      <td>NaN</td>\n",
       "      <td>NaN</td>\n",
       "      <td>NaN</td>\n",
       "      <td>IMC</td>\n",
       "      <td>Cruise</td>\n",
       "      <td>Probable Cause</td>\n",
       "      <td>26-02-2007</td>\n",
       "    </tr>\n",
       "    <tr>\n",
       "      <th>3</th>\n",
       "      <td>20001218X45448</td>\n",
       "      <td>Accident</td>\n",
       "      <td>LAX96LA321</td>\n",
       "      <td>1977-06-19</td>\n",
       "      <td>EUREKA, CA</td>\n",
       "      <td>United States</td>\n",
       "      <td>NaN</td>\n",
       "      <td>NaN</td>\n",
       "      <td>NaN</td>\n",
       "      <td>NaN</td>\n",
       "      <td>...</td>\n",
       "      <td>Personal</td>\n",
       "      <td>NaN</td>\n",
       "      <td>2.0</td>\n",
       "      <td>0.0</td>\n",
       "      <td>0.0</td>\n",
       "      <td>0.0</td>\n",
       "      <td>IMC</td>\n",
       "      <td>Cruise</td>\n",
       "      <td>Probable Cause</td>\n",
       "      <td>12-09-2000</td>\n",
       "    </tr>\n",
       "    <tr>\n",
       "      <th>4</th>\n",
       "      <td>20041105X01764</td>\n",
       "      <td>Accident</td>\n",
       "      <td>CHI79FA064</td>\n",
       "      <td>1979-08-02</td>\n",
       "      <td>Canton, OH</td>\n",
       "      <td>United States</td>\n",
       "      <td>NaN</td>\n",
       "      <td>NaN</td>\n",
       "      <td>NaN</td>\n",
       "      <td>NaN</td>\n",
       "      <td>...</td>\n",
       "      <td>Personal</td>\n",
       "      <td>NaN</td>\n",
       "      <td>1.0</td>\n",
       "      <td>2.0</td>\n",
       "      <td>NaN</td>\n",
       "      <td>0.0</td>\n",
       "      <td>VMC</td>\n",
       "      <td>Approach</td>\n",
       "      <td>Probable Cause</td>\n",
       "      <td>16-04-1980</td>\n",
       "    </tr>\n",
       "  </tbody>\n",
       "</table>\n",
       "<p>5 rows × 31 columns</p>\n",
       "</div>"
      ],
      "text/plain": [
       "         Event.Id Investigation.Type Accident.Number  Event.Date  \\\n",
       "0  20001218X45444           Accident      SEA87LA080  1948-10-24   \n",
       "1  20001218X45447           Accident      LAX94LA336  1962-07-19   \n",
       "2  20061025X01555           Accident      NYC07LA005  1974-08-30   \n",
       "3  20001218X45448           Accident      LAX96LA321  1977-06-19   \n",
       "4  20041105X01764           Accident      CHI79FA064  1979-08-02   \n",
       "\n",
       "          Location        Country   Latitude   Longitude Airport.Code  \\\n",
       "0  MOOSE CREEK, ID  United States        NaN         NaN          NaN   \n",
       "1   BRIDGEPORT, CA  United States        NaN         NaN          NaN   \n",
       "2    Saltville, VA  United States  36.922223  -81.878056          NaN   \n",
       "3       EUREKA, CA  United States        NaN         NaN          NaN   \n",
       "4       Canton, OH  United States        NaN         NaN          NaN   \n",
       "\n",
       "  Airport.Name  ... Purpose.of.flight Air.carrier Total.Fatal.Injuries  \\\n",
       "0          NaN  ...          Personal         NaN                  2.0   \n",
       "1          NaN  ...          Personal         NaN                  4.0   \n",
       "2          NaN  ...          Personal         NaN                  3.0   \n",
       "3          NaN  ...          Personal         NaN                  2.0   \n",
       "4          NaN  ...          Personal         NaN                  1.0   \n",
       "\n",
       "  Total.Serious.Injuries Total.Minor.Injuries Total.Uninjured  \\\n",
       "0                    0.0                  0.0             0.0   \n",
       "1                    0.0                  0.0             0.0   \n",
       "2                    NaN                  NaN             NaN   \n",
       "3                    0.0                  0.0             0.0   \n",
       "4                    2.0                  NaN             0.0   \n",
       "\n",
       "  Weather.Condition  Broad.phase.of.flight   Report.Status Publication.Date  \n",
       "0               UNK                 Cruise  Probable Cause              NaN  \n",
       "1               UNK                Unknown  Probable Cause       19-09-1996  \n",
       "2               IMC                 Cruise  Probable Cause       26-02-2007  \n",
       "3               IMC                 Cruise  Probable Cause       12-09-2000  \n",
       "4               VMC               Approach  Probable Cause       16-04-1980  \n",
       "\n",
       "[5 rows x 31 columns]"
      ]
     },
     "execution_count": 95,
     "metadata": {},
     "output_type": "execute_result"
    }
   ],
   "source": [
    "data.head()# This helps in viewing the first 5 rows to know what kind of data frame we are working with."
   ]
  },
  {
   "cell_type": "code",
   "execution_count": null,
   "id": "c5e644d5-7e41-424e-bb7a-be9bfcb9c005",
   "metadata": {},
   "outputs": [],
   "source": []
  },
  {
   "cell_type": "code",
   "execution_count": 96,
   "id": "ad15fa0c-f052-489b-831a-6dc7de62e2f6",
   "metadata": {},
   "outputs": [
    {
     "data": {
      "text/html": [
       "<div>\n",
       "<style scoped>\n",
       "    .dataframe tbody tr th:only-of-type {\n",
       "        vertical-align: middle;\n",
       "    }\n",
       "\n",
       "    .dataframe tbody tr th {\n",
       "        vertical-align: top;\n",
       "    }\n",
       "\n",
       "    .dataframe thead th {\n",
       "        text-align: right;\n",
       "    }\n",
       "</style>\n",
       "<table border=\"1\" class=\"dataframe\">\n",
       "  <thead>\n",
       "    <tr style=\"text-align: right;\">\n",
       "      <th></th>\n",
       "      <th>Event.Id</th>\n",
       "      <th>Investigation.Type</th>\n",
       "      <th>Accident.Number</th>\n",
       "      <th>Event.Date</th>\n",
       "      <th>Location</th>\n",
       "      <th>Country</th>\n",
       "      <th>Latitude</th>\n",
       "      <th>Longitude</th>\n",
       "      <th>Airport.Code</th>\n",
       "      <th>Airport.Name</th>\n",
       "      <th>...</th>\n",
       "      <th>Purpose.of.flight</th>\n",
       "      <th>Air.carrier</th>\n",
       "      <th>Total.Fatal.Injuries</th>\n",
       "      <th>Total.Serious.Injuries</th>\n",
       "      <th>Total.Minor.Injuries</th>\n",
       "      <th>Total.Uninjured</th>\n",
       "      <th>Weather.Condition</th>\n",
       "      <th>Broad.phase.of.flight</th>\n",
       "      <th>Report.Status</th>\n",
       "      <th>Publication.Date</th>\n",
       "    </tr>\n",
       "  </thead>\n",
       "  <tbody>\n",
       "    <tr>\n",
       "      <th>88884</th>\n",
       "      <td>20221227106491</td>\n",
       "      <td>Accident</td>\n",
       "      <td>ERA23LA093</td>\n",
       "      <td>2022-12-26</td>\n",
       "      <td>Annapolis, MD</td>\n",
       "      <td>United States</td>\n",
       "      <td>NaN</td>\n",
       "      <td>NaN</td>\n",
       "      <td>NaN</td>\n",
       "      <td>NaN</td>\n",
       "      <td>...</td>\n",
       "      <td>Personal</td>\n",
       "      <td>NaN</td>\n",
       "      <td>0.0</td>\n",
       "      <td>1.0</td>\n",
       "      <td>0.0</td>\n",
       "      <td>0.0</td>\n",
       "      <td>NaN</td>\n",
       "      <td>NaN</td>\n",
       "      <td>NaN</td>\n",
       "      <td>29-12-2022</td>\n",
       "    </tr>\n",
       "    <tr>\n",
       "      <th>88885</th>\n",
       "      <td>20221227106494</td>\n",
       "      <td>Accident</td>\n",
       "      <td>ERA23LA095</td>\n",
       "      <td>2022-12-26</td>\n",
       "      <td>Hampton, NH</td>\n",
       "      <td>United States</td>\n",
       "      <td>NaN</td>\n",
       "      <td>NaN</td>\n",
       "      <td>NaN</td>\n",
       "      <td>NaN</td>\n",
       "      <td>...</td>\n",
       "      <td>NaN</td>\n",
       "      <td>NaN</td>\n",
       "      <td>0.0</td>\n",
       "      <td>0.0</td>\n",
       "      <td>0.0</td>\n",
       "      <td>0.0</td>\n",
       "      <td>NaN</td>\n",
       "      <td>NaN</td>\n",
       "      <td>NaN</td>\n",
       "      <td>NaN</td>\n",
       "    </tr>\n",
       "    <tr>\n",
       "      <th>88886</th>\n",
       "      <td>20221227106497</td>\n",
       "      <td>Accident</td>\n",
       "      <td>WPR23LA075</td>\n",
       "      <td>2022-12-26</td>\n",
       "      <td>Payson, AZ</td>\n",
       "      <td>United States</td>\n",
       "      <td>341525N</td>\n",
       "      <td>1112021W</td>\n",
       "      <td>PAN</td>\n",
       "      <td>PAYSON</td>\n",
       "      <td>...</td>\n",
       "      <td>Personal</td>\n",
       "      <td>NaN</td>\n",
       "      <td>0.0</td>\n",
       "      <td>0.0</td>\n",
       "      <td>0.0</td>\n",
       "      <td>1.0</td>\n",
       "      <td>VMC</td>\n",
       "      <td>NaN</td>\n",
       "      <td>NaN</td>\n",
       "      <td>27-12-2022</td>\n",
       "    </tr>\n",
       "    <tr>\n",
       "      <th>88887</th>\n",
       "      <td>20221227106498</td>\n",
       "      <td>Accident</td>\n",
       "      <td>WPR23LA076</td>\n",
       "      <td>2022-12-26</td>\n",
       "      <td>Morgan, UT</td>\n",
       "      <td>United States</td>\n",
       "      <td>NaN</td>\n",
       "      <td>NaN</td>\n",
       "      <td>NaN</td>\n",
       "      <td>NaN</td>\n",
       "      <td>...</td>\n",
       "      <td>Personal</td>\n",
       "      <td>MC CESSNA 210N LLC</td>\n",
       "      <td>0.0</td>\n",
       "      <td>0.0</td>\n",
       "      <td>0.0</td>\n",
       "      <td>0.0</td>\n",
       "      <td>NaN</td>\n",
       "      <td>NaN</td>\n",
       "      <td>NaN</td>\n",
       "      <td>NaN</td>\n",
       "    </tr>\n",
       "    <tr>\n",
       "      <th>88888</th>\n",
       "      <td>20221230106513</td>\n",
       "      <td>Accident</td>\n",
       "      <td>ERA23LA097</td>\n",
       "      <td>2022-12-29</td>\n",
       "      <td>Athens, GA</td>\n",
       "      <td>United States</td>\n",
       "      <td>NaN</td>\n",
       "      <td>NaN</td>\n",
       "      <td>NaN</td>\n",
       "      <td>NaN</td>\n",
       "      <td>...</td>\n",
       "      <td>Personal</td>\n",
       "      <td>NaN</td>\n",
       "      <td>0.0</td>\n",
       "      <td>1.0</td>\n",
       "      <td>0.0</td>\n",
       "      <td>1.0</td>\n",
       "      <td>NaN</td>\n",
       "      <td>NaN</td>\n",
       "      <td>NaN</td>\n",
       "      <td>30-12-2022</td>\n",
       "    </tr>\n",
       "  </tbody>\n",
       "</table>\n",
       "<p>5 rows × 31 columns</p>\n",
       "</div>"
      ],
      "text/plain": [
       "             Event.Id Investigation.Type Accident.Number  Event.Date  \\\n",
       "88884  20221227106491           Accident      ERA23LA093  2022-12-26   \n",
       "88885  20221227106494           Accident      ERA23LA095  2022-12-26   \n",
       "88886  20221227106497           Accident      WPR23LA075  2022-12-26   \n",
       "88887  20221227106498           Accident      WPR23LA076  2022-12-26   \n",
       "88888  20221230106513           Accident      ERA23LA097  2022-12-29   \n",
       "\n",
       "            Location        Country Latitude Longitude Airport.Code  \\\n",
       "88884  Annapolis, MD  United States      NaN       NaN          NaN   \n",
       "88885    Hampton, NH  United States      NaN       NaN          NaN   \n",
       "88886     Payson, AZ  United States  341525N  1112021W          PAN   \n",
       "88887     Morgan, UT  United States      NaN       NaN          NaN   \n",
       "88888     Athens, GA  United States      NaN       NaN          NaN   \n",
       "\n",
       "      Airport.Name  ... Purpose.of.flight         Air.carrier  \\\n",
       "88884          NaN  ...          Personal                 NaN   \n",
       "88885          NaN  ...               NaN                 NaN   \n",
       "88886       PAYSON  ...          Personal                 NaN   \n",
       "88887          NaN  ...          Personal  MC CESSNA 210N LLC   \n",
       "88888          NaN  ...          Personal                 NaN   \n",
       "\n",
       "      Total.Fatal.Injuries Total.Serious.Injuries Total.Minor.Injuries  \\\n",
       "88884                  0.0                    1.0                  0.0   \n",
       "88885                  0.0                    0.0                  0.0   \n",
       "88886                  0.0                    0.0                  0.0   \n",
       "88887                  0.0                    0.0                  0.0   \n",
       "88888                  0.0                    1.0                  0.0   \n",
       "\n",
       "      Total.Uninjured Weather.Condition  Broad.phase.of.flight Report.Status  \\\n",
       "88884             0.0               NaN                    NaN           NaN   \n",
       "88885             0.0               NaN                    NaN           NaN   \n",
       "88886             1.0               VMC                    NaN           NaN   \n",
       "88887             0.0               NaN                    NaN           NaN   \n",
       "88888             1.0               NaN                    NaN           NaN   \n",
       "\n",
       "      Publication.Date  \n",
       "88884       29-12-2022  \n",
       "88885              NaN  \n",
       "88886       27-12-2022  \n",
       "88887              NaN  \n",
       "88888       30-12-2022  \n",
       "\n",
       "[5 rows x 31 columns]"
      ]
     },
     "execution_count": 96,
     "metadata": {},
     "output_type": "execute_result"
    }
   ],
   "source": [
    "data.tail() # This shows the last 5 rows of the dataframe."
   ]
  },
  {
   "cell_type": "code",
   "execution_count": null,
   "id": "dd134ae9-7aa1-40f0-a2f6-70399817a0b8",
   "metadata": {},
   "outputs": [],
   "source": []
  },
  {
   "cell_type": "code",
   "execution_count": 97,
   "id": "d84103ea-56c7-4fd1-82ce-7a319a1715cd",
   "metadata": {},
   "outputs": [
    {
     "data": {
      "text/html": [
       "<div>\n",
       "<style scoped>\n",
       "    .dataframe tbody tr th:only-of-type {\n",
       "        vertical-align: middle;\n",
       "    }\n",
       "\n",
       "    .dataframe tbody tr th {\n",
       "        vertical-align: top;\n",
       "    }\n",
       "\n",
       "    .dataframe thead th {\n",
       "        text-align: right;\n",
       "    }\n",
       "</style>\n",
       "<table border=\"1\" class=\"dataframe\">\n",
       "  <thead>\n",
       "    <tr style=\"text-align: right;\">\n",
       "      <th></th>\n",
       "      <th>Number.of.Engines</th>\n",
       "      <th>Total.Fatal.Injuries</th>\n",
       "      <th>Total.Serious.Injuries</th>\n",
       "      <th>Total.Minor.Injuries</th>\n",
       "      <th>Total.Uninjured</th>\n",
       "    </tr>\n",
       "  </thead>\n",
       "  <tbody>\n",
       "    <tr>\n",
       "      <th>count</th>\n",
       "      <td>82805.000000</td>\n",
       "      <td>77488.000000</td>\n",
       "      <td>76379.000000</td>\n",
       "      <td>76956.000000</td>\n",
       "      <td>82977.000000</td>\n",
       "    </tr>\n",
       "    <tr>\n",
       "      <th>mean</th>\n",
       "      <td>1.146585</td>\n",
       "      <td>0.647855</td>\n",
       "      <td>0.279881</td>\n",
       "      <td>0.357061</td>\n",
       "      <td>5.325440</td>\n",
       "    </tr>\n",
       "    <tr>\n",
       "      <th>std</th>\n",
       "      <td>0.446510</td>\n",
       "      <td>5.485960</td>\n",
       "      <td>1.544084</td>\n",
       "      <td>2.235625</td>\n",
       "      <td>27.913634</td>\n",
       "    </tr>\n",
       "    <tr>\n",
       "      <th>min</th>\n",
       "      <td>0.000000</td>\n",
       "      <td>0.000000</td>\n",
       "      <td>0.000000</td>\n",
       "      <td>0.000000</td>\n",
       "      <td>0.000000</td>\n",
       "    </tr>\n",
       "    <tr>\n",
       "      <th>25%</th>\n",
       "      <td>1.000000</td>\n",
       "      <td>0.000000</td>\n",
       "      <td>0.000000</td>\n",
       "      <td>0.000000</td>\n",
       "      <td>0.000000</td>\n",
       "    </tr>\n",
       "    <tr>\n",
       "      <th>50%</th>\n",
       "      <td>1.000000</td>\n",
       "      <td>0.000000</td>\n",
       "      <td>0.000000</td>\n",
       "      <td>0.000000</td>\n",
       "      <td>1.000000</td>\n",
       "    </tr>\n",
       "    <tr>\n",
       "      <th>75%</th>\n",
       "      <td>1.000000</td>\n",
       "      <td>0.000000</td>\n",
       "      <td>0.000000</td>\n",
       "      <td>0.000000</td>\n",
       "      <td>2.000000</td>\n",
       "    </tr>\n",
       "    <tr>\n",
       "      <th>max</th>\n",
       "      <td>8.000000</td>\n",
       "      <td>349.000000</td>\n",
       "      <td>161.000000</td>\n",
       "      <td>380.000000</td>\n",
       "      <td>699.000000</td>\n",
       "    </tr>\n",
       "  </tbody>\n",
       "</table>\n",
       "</div>"
      ],
      "text/plain": [
       "       Number.of.Engines  Total.Fatal.Injuries  Total.Serious.Injuries  \\\n",
       "count       82805.000000          77488.000000            76379.000000   \n",
       "mean            1.146585              0.647855                0.279881   \n",
       "std             0.446510              5.485960                1.544084   \n",
       "min             0.000000              0.000000                0.000000   \n",
       "25%             1.000000              0.000000                0.000000   \n",
       "50%             1.000000              0.000000                0.000000   \n",
       "75%             1.000000              0.000000                0.000000   \n",
       "max             8.000000            349.000000              161.000000   \n",
       "\n",
       "       Total.Minor.Injuries  Total.Uninjured  \n",
       "count          76956.000000     82977.000000  \n",
       "mean               0.357061         5.325440  \n",
       "std                2.235625        27.913634  \n",
       "min                0.000000         0.000000  \n",
       "25%                0.000000         0.000000  \n",
       "50%                0.000000         1.000000  \n",
       "75%                0.000000         2.000000  \n",
       "max              380.000000       699.000000  "
      ]
     },
     "execution_count": 97,
     "metadata": {},
     "output_type": "execute_result"
    }
   ],
   "source": [
    "data.describe() # This shows statistical details of the dataframe."
   ]
  },
  {
   "cell_type": "code",
   "execution_count": null,
   "id": "72c419e7-f027-4e06-890c-80a5c2707407",
   "metadata": {},
   "outputs": [],
   "source": []
  },
  {
   "cell_type": "code",
   "execution_count": 98,
   "id": "6ce901de-11fe-4dc4-814e-46bbbe883691",
   "metadata": {},
   "outputs": [
    {
     "data": {
      "text/plain": [
       "Index(['Event.Id', 'Investigation.Type', 'Accident.Number', 'Event.Date',\n",
       "       'Location', 'Country', 'Latitude', 'Longitude', 'Airport.Code',\n",
       "       'Airport.Name', 'Injury.Severity', 'Aircraft.damage',\n",
       "       'Aircraft.Category', 'Registration.Number', 'Make', 'Model',\n",
       "       'Amateur.Built', 'Number.of.Engines', 'Engine.Type', 'FAR.Description',\n",
       "       'Schedule', 'Purpose.of.flight', 'Air.carrier', 'Total.Fatal.Injuries',\n",
       "       'Total.Serious.Injuries', 'Total.Minor.Injuries', 'Total.Uninjured',\n",
       "       'Weather.Condition', 'Broad.phase.of.flight', 'Report.Status',\n",
       "       'Publication.Date'],\n",
       "      dtype='object')"
      ]
     },
     "execution_count": 98,
     "metadata": {},
     "output_type": "execute_result"
    }
   ],
   "source": [
    "data.keys() #this shows the keys of the dictionary that is the data."
   ]
  },
  {
   "cell_type": "markdown",
   "id": "386eb0eb-91fd-4091-88c8-fbe7af6832b9",
   "metadata": {},
   "source": [
    "## Checking for duplicates"
   ]
  },
  {
   "cell_type": "code",
   "execution_count": 99,
   "id": "61b1610c-7a44-4a67-85ac-f4f3cdc527fa",
   "metadata": {},
   "outputs": [
    {
     "data": {
      "text/plain": [
       "0        False\n",
       "1        False\n",
       "2        False\n",
       "3        False\n",
       "4        False\n",
       "         ...  \n",
       "88884    False\n",
       "88885    False\n",
       "88886    False\n",
       "88887    False\n",
       "88888    False\n",
       "Length: 88889, dtype: bool"
      ]
     },
     "execution_count": 99,
     "metadata": {},
     "output_type": "execute_result"
    }
   ],
   "source": [
    "data.duplicated() #Checks for any duplicates"
   ]
  },
  {
   "cell_type": "code",
   "execution_count": 100,
   "id": "776786ff-fb36-4e10-a820-6edcff8a051b",
   "metadata": {},
   "outputs": [
    {
     "data": {
      "text/plain": [
       "0"
      ]
     },
     "execution_count": 100,
     "metadata": {},
     "output_type": "execute_result"
    }
   ],
   "source": [
    "data.duplicated().sum() # Indicates total number of duplicates."
   ]
  },
  {
   "cell_type": "code",
   "execution_count": 101,
   "id": "a57003f4-25b2-47ee-9097-40ec4c04ecfa",
   "metadata": {},
   "outputs": [
    {
     "data": {
      "text/plain": [
       "938"
      ]
     },
     "execution_count": 101,
     "metadata": {},
     "output_type": "execute_result"
    }
   ],
   "source": [
    "data.duplicated('Event.Id').sum()"
   ]
  },
  {
   "cell_type": "code",
   "execution_count": 102,
   "id": "35e6d21d-9530-4349-876b-3d6a2595deec",
   "metadata": {},
   "outputs": [
    {
     "data": {
      "text/plain": [
       "0        False\n",
       "1        False\n",
       "2        False\n",
       "3        False\n",
       "4        False\n",
       "         ...  \n",
       "88884    False\n",
       "88885     True\n",
       "88886     True\n",
       "88887     True\n",
       "88888    False\n",
       "Length: 88889, dtype: bool"
      ]
     },
     "execution_count": 102,
     "metadata": {},
     "output_type": "execute_result"
    }
   ],
   "source": [
    "data.duplicated('Event.Date')"
   ]
  },
  {
   "cell_type": "code",
   "execution_count": 103,
   "id": "cc047838-00cb-49b4-92cb-ac7b7478f182",
   "metadata": {},
   "outputs": [
    {
     "data": {
      "text/plain": [
       "26"
      ]
     },
     "execution_count": 103,
     "metadata": {},
     "output_type": "execute_result"
    }
   ],
   "source": [
    "data.duplicated('Accident.Number').sum()"
   ]
  },
  {
   "cell_type": "code",
   "execution_count": 104,
   "id": "9789262d-747b-4c2e-8847-938def12d63c",
   "metadata": {},
   "outputs": [
    {
     "data": {
      "text/plain": [
       "0        False\n",
       "1         True\n",
       "2        False\n",
       "3         True\n",
       "4         True\n",
       "         ...  \n",
       "88884     True\n",
       "88885     True\n",
       "88886     True\n",
       "88887     True\n",
       "88888     True\n",
       "Length: 88889, dtype: bool"
      ]
     },
     "execution_count": 104,
     "metadata": {},
     "output_type": "execute_result"
    }
   ],
   "source": [
    "data.duplicated('Latitude')"
   ]
  },
  {
   "cell_type": "code",
   "execution_count": 105,
   "id": "57d4ebd3-2b34-4c23-9d87-1987a68d7cf1",
   "metadata": {},
   "outputs": [
    {
     "data": {
      "text/plain": [
       "0        False\n",
       "1         True\n",
       "2        False\n",
       "3         True\n",
       "4         True\n",
       "         ...  \n",
       "88884     True\n",
       "88885     True\n",
       "88886     True\n",
       "88887     True\n",
       "88888     True\n",
       "Length: 88889, dtype: bool"
      ]
     },
     "execution_count": 105,
     "metadata": {},
     "output_type": "execute_result"
    }
   ],
   "source": [
    "data.duplicated('Longitude')"
   ]
  },
  {
   "cell_type": "code",
   "execution_count": 106,
   "id": "0d441998-4b82-4f41-abb9-eb17003bf0c1",
   "metadata": {},
   "outputs": [
    {
     "data": {
      "text/plain": [
       "0        False\n",
       "1         True\n",
       "2         True\n",
       "3         True\n",
       "4         True\n",
       "         ...  \n",
       "88884     True\n",
       "88885     True\n",
       "88886     True\n",
       "88887     True\n",
       "88888     True\n",
       "Length: 88889, dtype: bool"
      ]
     },
     "execution_count": 106,
     "metadata": {},
     "output_type": "execute_result"
    }
   ],
   "source": [
    "data.duplicated('Airport.Name')"
   ]
  },
  {
   "cell_type": "code",
   "execution_count": 107,
   "id": "9dee175f-fb58-40bc-b9c7-6145d76d5025",
   "metadata": {},
   "outputs": [
    {
     "data": {
      "text/plain": [
       "78514"
      ]
     },
     "execution_count": 107,
     "metadata": {},
     "output_type": "execute_result"
    }
   ],
   "source": [
    "data.duplicated('Airport.Code').sum()"
   ]
  },
  {
   "cell_type": "code",
   "execution_count": 108,
   "id": "6e305ad3-f28f-4cc4-a0a2-e1b92630d915",
   "metadata": {},
   "outputs": [
    {
     "data": {
      "text/plain": [
       "9784"
      ]
     },
     "execution_count": 108,
     "metadata": {},
     "output_type": "execute_result"
    }
   ],
   "source": [
    "data.duplicated('Registration.Number').sum()"
   ]
  },
  {
   "cell_type": "markdown",
   "id": "786027c4-ad6c-4c97-b73d-1ef69d2b54c7",
   "metadata": {},
   "source": [
    "## Checking for unique values."
   ]
  },
  {
   "cell_type": "code",
   "execution_count": 210,
   "id": "cf0941c8-8bda-4227-b7a3-90d4e88db6e4",
   "metadata": {},
   "outputs": [
    {
     "data": {
      "text/plain": [
       "Investigation_Type\n",
       "Accident    70835\n",
       "Incident     2505\n",
       "Name: count, dtype: int64"
      ]
     },
     "execution_count": 210,
     "metadata": {},
     "output_type": "execute_result"
    }
   ],
   "source": [
    "data['Investigation_Type'].value_counts() # How many times each unique value is present "
   ]
  },
  {
   "cell_type": "code",
   "execution_count": 199,
   "id": "87cfdbee-0d04-4600-9e76-dd226cfbd72a",
   "metadata": {},
   "outputs": [
    {
     "data": {
      "text/plain": [
       "Weather_Condition\n",
       "VMC    64379\n",
       "IMC     4968\n",
       "UNK      709\n",
       "Unk      237\n",
       "Name: count, dtype: int64"
      ]
     },
     "execution_count": 199,
     "metadata": {},
     "output_type": "execute_result"
    }
   ],
   "source": [
    "data['Weather_Condition'].value_counts()"
   ]
  },
  {
   "cell_type": "code",
   "execution_count": 212,
   "id": "e917573e-981d-48f2-bf6c-446ef776f013",
   "metadata": {},
   "outputs": [
    {
     "data": {
      "text/plain": [
       "Country\n",
       "United States                       68987\n",
       "Brazil                                324\n",
       "Canada                                249\n",
       "Mexico                                234\n",
       "United Kingdom                        182\n",
       "                                    ...  \n",
       "Guinea                                  1\n",
       "Saint Vincent and the Grenadines        1\n",
       "Malampa                                 1\n",
       "Bosnia and Herzegovina                  1\n",
       "Turks and Caicos Islands                1\n",
       "Name: count, Length: 195, dtype: int64"
      ]
     },
     "execution_count": 212,
     "metadata": {},
     "output_type": "execute_result"
    }
   ],
   "source": [
    "data['Country'].value_counts()"
   ]
  },
  {
   "cell_type": "code",
   "execution_count": 213,
   "id": "d2184f6e-5d75-4098-bce7-b3926fbd6f4f",
   "metadata": {},
   "outputs": [
    {
     "data": {
      "text/plain": [
       "Location\n",
       "ANCHORAGE, AK          360\n",
       "MIAMI, FL              183\n",
       "CHICAGO, IL            167\n",
       "ALBUQUERQUE, NM        165\n",
       "HOUSTON, TX            156\n",
       "                      ... \n",
       "HI. NAT'L PARK, HI       1\n",
       "COBALT, ID               1\n",
       "LEVAN, UT                1\n",
       "INGOLSTADT, GERMANY      1\n",
       "Brasnorte,               1\n",
       "Name: count, Length: 24425, dtype: int64"
      ]
     },
     "execution_count": 213,
     "metadata": {},
     "output_type": "execute_result"
    }
   ],
   "source": [
    "data['Location'].value_counts()"
   ]
  },
  {
   "cell_type": "code",
   "execution_count": 215,
   "id": "e5e50332-3b22-4564-b910-7eeaa8e2aa2a",
   "metadata": {},
   "outputs": [
    {
     "data": {
      "text/plain": [
       "Event_Date\n",
       "1984-06-30    25\n",
       "1982-05-16    25\n",
       "2000-07-08    24\n",
       "1984-08-25    24\n",
       "1983-08-05    24\n",
       "              ..\n",
       "2014-03-12     1\n",
       "2014-03-10     1\n",
       "2014-03-04     1\n",
       "2014-03-03     1\n",
       "2022-12-29     1\n",
       "Name: count, Length: 12369, dtype: int64"
      ]
     },
     "execution_count": 215,
     "metadata": {},
     "output_type": "execute_result"
    }
   ],
   "source": [
    "data['Event_Date'].value_counts()"
   ]
  },
  {
   "cell_type": "code",
   "execution_count": 217,
   "id": "a731eac6-3e65-4be1-807c-56cafd0c9ae3",
   "metadata": {},
   "outputs": [
    {
     "data": {
      "text/plain": [
       "Airport_Name\n",
       "PRIVATE                           219\n",
       "Private                           178\n",
       "NONE                              125\n",
       "PRIVATE STRIP                     110\n",
       "Private Airstrip                   96\n",
       "                                 ... \n",
       "SANONA CREEK AIRSTRIP               1\n",
       "PENNS CAVE                          1\n",
       "ANDY BARNHART                       1\n",
       "CARIBOU MUNICIPAL                   1\n",
       "WICHITA DWIGHT D EISENHOWER NT      1\n",
       "Name: count, Length: 21525, dtype: int64"
      ]
     },
     "execution_count": 217,
     "metadata": {},
     "output_type": "execute_result"
    }
   ],
   "source": [
    "data['Airport_Name'].value_counts()"
   ]
  },
  {
   "cell_type": "code",
   "execution_count": 218,
   "id": "d67c1cc9-6043-42a3-b173-63b88b925b36",
   "metadata": {},
   "outputs": [
    {
     "data": {
      "text/plain": [
       "Injury_Severity\n",
       "Non-Fatal     56627\n",
       "Fatal          5262\n",
       "Fatal(1)       4723\n",
       "Fatal(2)       2809\n",
       "Incident       1557\n",
       "              ...  \n",
       "Fatal(37)         1\n",
       "Fatal(132)        1\n",
       "Fatal(31)         1\n",
       "Fatal(65)         1\n",
       "Fatal(131)        1\n",
       "Name: count, Length: 72, dtype: int64"
      ]
     },
     "execution_count": 218,
     "metadata": {},
     "output_type": "execute_result"
    }
   ],
   "source": [
    "data['Injury_Severity'].value_counts()"
   ]
  },
  {
   "cell_type": "code",
   "execution_count": 117,
   "id": "155fc3ad-8403-4f42-9b44-656e3cd5c75b",
   "metadata": {},
   "outputs": [
    {
     "data": {
      "text/plain": [
       "array(['Stinson', 'Piper', 'Cessna', ..., 'JAMES R DERNOVSEK',\n",
       "       'ORLICAN S R O', 'ROYSE RALPH L'], dtype=object)"
      ]
     },
     "execution_count": 117,
     "metadata": {},
     "output_type": "execute_result"
    }
   ],
   "source": [
    "data['Make'].unique()"
   ]
  },
  {
   "cell_type": "code",
   "execution_count": 118,
   "id": "60f105a3-6947-4bed-9afa-7b772fb203aa",
   "metadata": {},
   "outputs": [
    {
     "data": {
      "text/plain": [
       "Make\n",
       "Cessna             22227\n",
       "Piper              12029\n",
       "CESSNA              4922\n",
       "Beech               4330\n",
       "PIPER               2841\n",
       "                   ...  \n",
       "Leonard Walters        1\n",
       "Maule Air Inc.         1\n",
       "Motley Vans            1\n",
       "Perlick                1\n",
       "ROYSE RALPH L          1\n",
       "Name: count, Length: 8237, dtype: int64"
      ]
     },
     "execution_count": 118,
     "metadata": {},
     "output_type": "execute_result"
    }
   ],
   "source": [
    "data['Make'].value_counts()"
   ]
  },
  {
   "cell_type": "code",
   "execution_count": 119,
   "id": "e65b2707-61e7-4164-9602-0eecfbf8cd16",
   "metadata": {},
   "outputs": [
    {
     "data": {
      "text/plain": [
       "Model\n",
       "152              2367\n",
       "172              1756\n",
       "172N             1164\n",
       "PA-28-140         932\n",
       "150               829\n",
       "                 ... \n",
       "GC-1-A              1\n",
       "737-3S3             1\n",
       "MBB-BK117-B2        1\n",
       "GLASSAIR GL25       1\n",
       "M-8 EAGLE           1\n",
       "Name: count, Length: 12318, dtype: int64"
      ]
     },
     "execution_count": 119,
     "metadata": {},
     "output_type": "execute_result"
    }
   ],
   "source": [
    "data['Model'].value_counts()"
   ]
  },
  {
   "cell_type": "code",
   "execution_count": 120,
   "id": "a832b10f-c0f5-4a10-b23c-58cdb628ecd3",
   "metadata": {},
   "outputs": [
    {
     "data": {
      "text/plain": [
       "array(['108-3', 'PA24-180', '172M', ..., 'ROTORWAY EXEC 162-F',\n",
       "       'KITFOX S5', 'M-8 EAGLE'], dtype=object)"
      ]
     },
     "execution_count": 120,
     "metadata": {},
     "output_type": "execute_result"
    }
   ],
   "source": [
    "data['Model'].unique()"
   ]
  },
  {
   "cell_type": "code",
   "execution_count": 219,
   "id": "5e8514d5-45c8-48d4-80d7-c37cbab3442a",
   "metadata": {},
   "outputs": [
    {
     "data": {
      "text/plain": [
       "Injury_Severity\n",
       "Non-Fatal     56627\n",
       "Fatal          5262\n",
       "Fatal(1)       4723\n",
       "Fatal(2)       2809\n",
       "Incident       1557\n",
       "              ...  \n",
       "Fatal(37)         1\n",
       "Fatal(132)        1\n",
       "Fatal(31)         1\n",
       "Fatal(65)         1\n",
       "Fatal(131)        1\n",
       "Name: count, Length: 72, dtype: int64"
      ]
     },
     "execution_count": 219,
     "metadata": {},
     "output_type": "execute_result"
    }
   ],
   "source": [
    "data['Injury_Severity'].value_counts()"
   ]
  },
  {
   "cell_type": "code",
   "execution_count": 220,
   "id": "1cf7f550-c167-435b-a7b5-17552c62a5fb",
   "metadata": {},
   "outputs": [
    {
     "data": {
      "text/plain": [
       "array(['Fatal(2)', 'Fatal(4)', 'Non-Fatal', 'Fatal(1)', 'Fatal(3)',\n",
       "       'Incident', 'Fatal(8)', 'Fatal(78)', 'Fatal(7)', 'Fatal(6)',\n",
       "       'Fatal(5)', 'Fatal(153)', 'Fatal(12)', 'Fatal(23)', 'Fatal(10)',\n",
       "       'Fatal(9)', 'Fatal(17)', 'Fatal(13)', 'Fatal(29)', 'Fatal(70)',\n",
       "       'Fatal(135)', 'Fatal(31)', 'Fatal(14)', 'Fatal(256)', 'Fatal(25)',\n",
       "       'Fatal(82)', 'Fatal(156)', 'Fatal(28)', 'Fatal(18)', 'Fatal(43)',\n",
       "       'Fatal(15)', 'Fatal(270)', 'Fatal(144)', 'Fatal(174)', 'Fatal(11)',\n",
       "       'Fatal(111)', 'Fatal(131)', 'Fatal(20)', 'Fatal(73)', 'Fatal(27)',\n",
       "       'Fatal(34)', 'Fatal(87)', 'Fatal(30)', 'Fatal(47)', 'Fatal(56)',\n",
       "       'Fatal(37)', 'Fatal(132)', 'Fatal(68)', 'Fatal(52)', 'Fatal(65)',\n",
       "       'Fatal(72)', 'Fatal(189)', 'Fatal(123)', 'Fatal(33)', 'Fatal(110)',\n",
       "       'Fatal(230)', 'Fatal(97)', 'Fatal(125)', 'Fatal(75)', 'Fatal(104)',\n",
       "       'Fatal(229)', 'Fatal(16)', 'Fatal(80)', 'Fatal(88)', 'Fatal(19)',\n",
       "       'Fatal(60)', 'Fatal(113)', 'Fatal(143)', 'Fatal(83)', 'Fatal',\n",
       "       'Minor', 'Serious'], dtype=object)"
      ]
     },
     "execution_count": 220,
     "metadata": {},
     "output_type": "execute_result"
    }
   ],
   "source": [
    "data['Injury_Severity'].unique()"
   ]
  },
  {
   "cell_type": "code",
   "execution_count": 221,
   "id": "a9ccdbe2-acf5-493f-b5b9-1984519fe612",
   "metadata": {},
   "outputs": [
    {
     "data": {
      "text/plain": [
       "Total_Fatal_Injuries\n",
       "0.0      58592\n",
       "1.0       7435\n",
       "2.0       4271\n",
       "3.0       1300\n",
       "4.0        919\n",
       "         ...  \n",
       "135.0        1\n",
       "60.0         1\n",
       "113.0        1\n",
       "73.0         1\n",
       "176.0        1\n",
       "Name: count, Length: 97, dtype: int64"
      ]
     },
     "execution_count": 221,
     "metadata": {},
     "output_type": "execute_result"
    }
   ],
   "source": [
    "data['Total_Fatal_Injuries'].value_counts()"
   ]
  },
  {
   "cell_type": "code",
   "execution_count": 222,
   "id": "a47964df-3bcf-4777-a1fc-f1e82f256c77",
   "metadata": {},
   "outputs": [
    {
     "data": {
      "text/plain": [
       "Far_Description\n",
       "091                               18181\n",
       "Part 91: General Aviation          3146\n",
       "NUSN                               1463\n",
       "137                                1009\n",
       "135                                 737\n",
       "NUSC                                632\n",
       "121                                 583\n",
       "UNK                                 295\n",
       "Part 137: Agricultural              261\n",
       "PUBU                                247\n",
       "Part 135: Air Taxi & Commuter       188\n",
       "129                                 129\n",
       "133                                 107\n",
       "Part 121: Air Carrier                52\n",
       "Part 133: Rotorcraft Ext. Load       26\n",
       "091K                                 14\n",
       "ARMF                                  6\n",
       "Part 129: Foreign                     6\n",
       "Unknown                               6\n",
       "125                                   5\n",
       "Non-U.S., Commercial                  4\n",
       "Part 125: 20+ Pax,6000+ lbs           3\n",
       "107                                   3\n",
       "Public Use                            2\n",
       "103                                   2\n",
       "Non-U.S., Non-Commercial              1\n",
       "Part 91F: Special Flt Ops.            1\n",
       "437                                   1\n",
       "Name: count, dtype: int64"
      ]
     },
     "execution_count": 222,
     "metadata": {},
     "output_type": "execute_result"
    }
   ],
   "source": [
    "data['Far_Description'].value_counts()"
   ]
  },
  {
   "cell_type": "code",
   "execution_count": 223,
   "id": "0ec61653-ea5f-4b14-8ab1-2437142be16a",
   "metadata": {},
   "outputs": [
    {
     "data": {
      "text/plain": [
       "array(['UNK', 'IMC', 'VMC', nan, 'Unk'], dtype=object)"
      ]
     },
     "execution_count": 223,
     "metadata": {},
     "output_type": "execute_result"
    }
   ],
   "source": [
    "data['Weather_Condition'].unique()"
   ]
  },
  {
   "cell_type": "markdown",
   "id": "5393f08d-f529-4c50-bfcc-01031d31e756",
   "metadata": {},
   "source": [
    "## Checking for missing values"
   ]
  },
  {
   "cell_type": "code",
   "execution_count": 126,
   "id": "4e55a320-4724-4e45-8d39-3ce0d3b55f1d",
   "metadata": {},
   "outputs": [
    {
     "data": {
      "text/html": [
       "<div>\n",
       "<style scoped>\n",
       "    .dataframe tbody tr th:only-of-type {\n",
       "        vertical-align: middle;\n",
       "    }\n",
       "\n",
       "    .dataframe tbody tr th {\n",
       "        vertical-align: top;\n",
       "    }\n",
       "\n",
       "    .dataframe thead th {\n",
       "        text-align: right;\n",
       "    }\n",
       "</style>\n",
       "<table border=\"1\" class=\"dataframe\">\n",
       "  <thead>\n",
       "    <tr style=\"text-align: right;\">\n",
       "      <th></th>\n",
       "      <th>Event.Id</th>\n",
       "      <th>Investigation.Type</th>\n",
       "      <th>Accident.Number</th>\n",
       "      <th>Event.Date</th>\n",
       "      <th>Location</th>\n",
       "      <th>Country</th>\n",
       "      <th>Latitude</th>\n",
       "      <th>Longitude</th>\n",
       "      <th>Airport.Code</th>\n",
       "      <th>Airport.Name</th>\n",
       "      <th>...</th>\n",
       "      <th>Purpose.of.flight</th>\n",
       "      <th>Air.carrier</th>\n",
       "      <th>Total.Fatal.Injuries</th>\n",
       "      <th>Total.Serious.Injuries</th>\n",
       "      <th>Total.Minor.Injuries</th>\n",
       "      <th>Total.Uninjured</th>\n",
       "      <th>Weather.Condition</th>\n",
       "      <th>Broad.phase.of.flight</th>\n",
       "      <th>Report.Status</th>\n",
       "      <th>Publication.Date</th>\n",
       "    </tr>\n",
       "  </thead>\n",
       "  <tbody>\n",
       "    <tr>\n",
       "      <th>0</th>\n",
       "      <td>False</td>\n",
       "      <td>False</td>\n",
       "      <td>False</td>\n",
       "      <td>False</td>\n",
       "      <td>False</td>\n",
       "      <td>False</td>\n",
       "      <td>True</td>\n",
       "      <td>True</td>\n",
       "      <td>True</td>\n",
       "      <td>True</td>\n",
       "      <td>...</td>\n",
       "      <td>False</td>\n",
       "      <td>True</td>\n",
       "      <td>False</td>\n",
       "      <td>False</td>\n",
       "      <td>False</td>\n",
       "      <td>False</td>\n",
       "      <td>False</td>\n",
       "      <td>False</td>\n",
       "      <td>False</td>\n",
       "      <td>True</td>\n",
       "    </tr>\n",
       "    <tr>\n",
       "      <th>1</th>\n",
       "      <td>False</td>\n",
       "      <td>False</td>\n",
       "      <td>False</td>\n",
       "      <td>False</td>\n",
       "      <td>False</td>\n",
       "      <td>False</td>\n",
       "      <td>True</td>\n",
       "      <td>True</td>\n",
       "      <td>True</td>\n",
       "      <td>True</td>\n",
       "      <td>...</td>\n",
       "      <td>False</td>\n",
       "      <td>True</td>\n",
       "      <td>False</td>\n",
       "      <td>False</td>\n",
       "      <td>False</td>\n",
       "      <td>False</td>\n",
       "      <td>False</td>\n",
       "      <td>False</td>\n",
       "      <td>False</td>\n",
       "      <td>False</td>\n",
       "    </tr>\n",
       "    <tr>\n",
       "      <th>2</th>\n",
       "      <td>False</td>\n",
       "      <td>False</td>\n",
       "      <td>False</td>\n",
       "      <td>False</td>\n",
       "      <td>False</td>\n",
       "      <td>False</td>\n",
       "      <td>False</td>\n",
       "      <td>False</td>\n",
       "      <td>True</td>\n",
       "      <td>True</td>\n",
       "      <td>...</td>\n",
       "      <td>False</td>\n",
       "      <td>True</td>\n",
       "      <td>False</td>\n",
       "      <td>True</td>\n",
       "      <td>True</td>\n",
       "      <td>True</td>\n",
       "      <td>False</td>\n",
       "      <td>False</td>\n",
       "      <td>False</td>\n",
       "      <td>False</td>\n",
       "    </tr>\n",
       "    <tr>\n",
       "      <th>3</th>\n",
       "      <td>False</td>\n",
       "      <td>False</td>\n",
       "      <td>False</td>\n",
       "      <td>False</td>\n",
       "      <td>False</td>\n",
       "      <td>False</td>\n",
       "      <td>True</td>\n",
       "      <td>True</td>\n",
       "      <td>True</td>\n",
       "      <td>True</td>\n",
       "      <td>...</td>\n",
       "      <td>False</td>\n",
       "      <td>True</td>\n",
       "      <td>False</td>\n",
       "      <td>False</td>\n",
       "      <td>False</td>\n",
       "      <td>False</td>\n",
       "      <td>False</td>\n",
       "      <td>False</td>\n",
       "      <td>False</td>\n",
       "      <td>False</td>\n",
       "    </tr>\n",
       "    <tr>\n",
       "      <th>4</th>\n",
       "      <td>False</td>\n",
       "      <td>False</td>\n",
       "      <td>False</td>\n",
       "      <td>False</td>\n",
       "      <td>False</td>\n",
       "      <td>False</td>\n",
       "      <td>True</td>\n",
       "      <td>True</td>\n",
       "      <td>True</td>\n",
       "      <td>True</td>\n",
       "      <td>...</td>\n",
       "      <td>False</td>\n",
       "      <td>True</td>\n",
       "      <td>False</td>\n",
       "      <td>False</td>\n",
       "      <td>True</td>\n",
       "      <td>False</td>\n",
       "      <td>False</td>\n",
       "      <td>False</td>\n",
       "      <td>False</td>\n",
       "      <td>False</td>\n",
       "    </tr>\n",
       "    <tr>\n",
       "      <th>...</th>\n",
       "      <td>...</td>\n",
       "      <td>...</td>\n",
       "      <td>...</td>\n",
       "      <td>...</td>\n",
       "      <td>...</td>\n",
       "      <td>...</td>\n",
       "      <td>...</td>\n",
       "      <td>...</td>\n",
       "      <td>...</td>\n",
       "      <td>...</td>\n",
       "      <td>...</td>\n",
       "      <td>...</td>\n",
       "      <td>...</td>\n",
       "      <td>...</td>\n",
       "      <td>...</td>\n",
       "      <td>...</td>\n",
       "      <td>...</td>\n",
       "      <td>...</td>\n",
       "      <td>...</td>\n",
       "      <td>...</td>\n",
       "      <td>...</td>\n",
       "    </tr>\n",
       "    <tr>\n",
       "      <th>88884</th>\n",
       "      <td>False</td>\n",
       "      <td>False</td>\n",
       "      <td>False</td>\n",
       "      <td>False</td>\n",
       "      <td>False</td>\n",
       "      <td>False</td>\n",
       "      <td>True</td>\n",
       "      <td>True</td>\n",
       "      <td>True</td>\n",
       "      <td>True</td>\n",
       "      <td>...</td>\n",
       "      <td>False</td>\n",
       "      <td>True</td>\n",
       "      <td>False</td>\n",
       "      <td>False</td>\n",
       "      <td>False</td>\n",
       "      <td>False</td>\n",
       "      <td>True</td>\n",
       "      <td>True</td>\n",
       "      <td>True</td>\n",
       "      <td>False</td>\n",
       "    </tr>\n",
       "    <tr>\n",
       "      <th>88885</th>\n",
       "      <td>False</td>\n",
       "      <td>False</td>\n",
       "      <td>False</td>\n",
       "      <td>False</td>\n",
       "      <td>False</td>\n",
       "      <td>False</td>\n",
       "      <td>True</td>\n",
       "      <td>True</td>\n",
       "      <td>True</td>\n",
       "      <td>True</td>\n",
       "      <td>...</td>\n",
       "      <td>True</td>\n",
       "      <td>True</td>\n",
       "      <td>False</td>\n",
       "      <td>False</td>\n",
       "      <td>False</td>\n",
       "      <td>False</td>\n",
       "      <td>True</td>\n",
       "      <td>True</td>\n",
       "      <td>True</td>\n",
       "      <td>True</td>\n",
       "    </tr>\n",
       "    <tr>\n",
       "      <th>88886</th>\n",
       "      <td>False</td>\n",
       "      <td>False</td>\n",
       "      <td>False</td>\n",
       "      <td>False</td>\n",
       "      <td>False</td>\n",
       "      <td>False</td>\n",
       "      <td>False</td>\n",
       "      <td>False</td>\n",
       "      <td>False</td>\n",
       "      <td>False</td>\n",
       "      <td>...</td>\n",
       "      <td>False</td>\n",
       "      <td>True</td>\n",
       "      <td>False</td>\n",
       "      <td>False</td>\n",
       "      <td>False</td>\n",
       "      <td>False</td>\n",
       "      <td>False</td>\n",
       "      <td>True</td>\n",
       "      <td>True</td>\n",
       "      <td>False</td>\n",
       "    </tr>\n",
       "    <tr>\n",
       "      <th>88887</th>\n",
       "      <td>False</td>\n",
       "      <td>False</td>\n",
       "      <td>False</td>\n",
       "      <td>False</td>\n",
       "      <td>False</td>\n",
       "      <td>False</td>\n",
       "      <td>True</td>\n",
       "      <td>True</td>\n",
       "      <td>True</td>\n",
       "      <td>True</td>\n",
       "      <td>...</td>\n",
       "      <td>False</td>\n",
       "      <td>False</td>\n",
       "      <td>False</td>\n",
       "      <td>False</td>\n",
       "      <td>False</td>\n",
       "      <td>False</td>\n",
       "      <td>True</td>\n",
       "      <td>True</td>\n",
       "      <td>True</td>\n",
       "      <td>True</td>\n",
       "    </tr>\n",
       "    <tr>\n",
       "      <th>88888</th>\n",
       "      <td>False</td>\n",
       "      <td>False</td>\n",
       "      <td>False</td>\n",
       "      <td>False</td>\n",
       "      <td>False</td>\n",
       "      <td>False</td>\n",
       "      <td>True</td>\n",
       "      <td>True</td>\n",
       "      <td>True</td>\n",
       "      <td>True</td>\n",
       "      <td>...</td>\n",
       "      <td>False</td>\n",
       "      <td>True</td>\n",
       "      <td>False</td>\n",
       "      <td>False</td>\n",
       "      <td>False</td>\n",
       "      <td>False</td>\n",
       "      <td>True</td>\n",
       "      <td>True</td>\n",
       "      <td>True</td>\n",
       "      <td>False</td>\n",
       "    </tr>\n",
       "  </tbody>\n",
       "</table>\n",
       "<p>88889 rows × 31 columns</p>\n",
       "</div>"
      ],
      "text/plain": [
       "       Event.Id  Investigation.Type  Accident.Number  Event.Date  Location  \\\n",
       "0         False               False            False       False     False   \n",
       "1         False               False            False       False     False   \n",
       "2         False               False            False       False     False   \n",
       "3         False               False            False       False     False   \n",
       "4         False               False            False       False     False   \n",
       "...         ...                 ...              ...         ...       ...   \n",
       "88884     False               False            False       False     False   \n",
       "88885     False               False            False       False     False   \n",
       "88886     False               False            False       False     False   \n",
       "88887     False               False            False       False     False   \n",
       "88888     False               False            False       False     False   \n",
       "\n",
       "       Country  Latitude  Longitude  Airport.Code  Airport.Name  ...  \\\n",
       "0        False      True       True          True          True  ...   \n",
       "1        False      True       True          True          True  ...   \n",
       "2        False     False      False          True          True  ...   \n",
       "3        False      True       True          True          True  ...   \n",
       "4        False      True       True          True          True  ...   \n",
       "...        ...       ...        ...           ...           ...  ...   \n",
       "88884    False      True       True          True          True  ...   \n",
       "88885    False      True       True          True          True  ...   \n",
       "88886    False     False      False         False         False  ...   \n",
       "88887    False      True       True          True          True  ...   \n",
       "88888    False      True       True          True          True  ...   \n",
       "\n",
       "       Purpose.of.flight  Air.carrier  Total.Fatal.Injuries  \\\n",
       "0                  False         True                 False   \n",
       "1                  False         True                 False   \n",
       "2                  False         True                 False   \n",
       "3                  False         True                 False   \n",
       "4                  False         True                 False   \n",
       "...                  ...          ...                   ...   \n",
       "88884              False         True                 False   \n",
       "88885               True         True                 False   \n",
       "88886              False         True                 False   \n",
       "88887              False        False                 False   \n",
       "88888              False         True                 False   \n",
       "\n",
       "       Total.Serious.Injuries  Total.Minor.Injuries  Total.Uninjured  \\\n",
       "0                       False                 False            False   \n",
       "1                       False                 False            False   \n",
       "2                        True                  True             True   \n",
       "3                       False                 False            False   \n",
       "4                       False                  True            False   \n",
       "...                       ...                   ...              ...   \n",
       "88884                   False                 False            False   \n",
       "88885                   False                 False            False   \n",
       "88886                   False                 False            False   \n",
       "88887                   False                 False            False   \n",
       "88888                   False                 False            False   \n",
       "\n",
       "       Weather.Condition  Broad.phase.of.flight  Report.Status  \\\n",
       "0                  False                  False          False   \n",
       "1                  False                  False          False   \n",
       "2                  False                  False          False   \n",
       "3                  False                  False          False   \n",
       "4                  False                  False          False   \n",
       "...                  ...                    ...            ...   \n",
       "88884               True                   True           True   \n",
       "88885               True                   True           True   \n",
       "88886              False                   True           True   \n",
       "88887               True                   True           True   \n",
       "88888               True                   True           True   \n",
       "\n",
       "       Publication.Date  \n",
       "0                  True  \n",
       "1                 False  \n",
       "2                 False  \n",
       "3                 False  \n",
       "4                 False  \n",
       "...                 ...  \n",
       "88884             False  \n",
       "88885              True  \n",
       "88886             False  \n",
       "88887              True  \n",
       "88888             False  \n",
       "\n",
       "[88889 rows x 31 columns]"
      ]
     },
     "execution_count": 126,
     "metadata": {},
     "output_type": "execute_result"
    }
   ],
   "source": [
    "data.isnull() # Used to show missing values indicated as True and false means presnt value"
   ]
  },
  {
   "cell_type": "code",
   "execution_count": 127,
   "id": "0142a6f0-576c-499f-b3c4-6c8fabad6f0c",
   "metadata": {},
   "outputs": [
    {
     "data": {
      "text/plain": [
       "Event.Id                      0\n",
       "Investigation.Type            0\n",
       "Accident.Number               0\n",
       "Event.Date                    0\n",
       "Location                     52\n",
       "Country                     226\n",
       "Latitude                  54507\n",
       "Longitude                 54516\n",
       "Airport.Code              38757\n",
       "Airport.Name              36185\n",
       "Injury.Severity            1000\n",
       "Aircraft.damage            3194\n",
       "Aircraft.Category         56602\n",
       "Registration.Number        1382\n",
       "Make                         63\n",
       "Model                        92\n",
       "Amateur.Built               102\n",
       "Number.of.Engines          6084\n",
       "Engine.Type                7096\n",
       "FAR.Description           56866\n",
       "Schedule                  76307\n",
       "Purpose.of.flight          6192\n",
       "Air.carrier               72241\n",
       "Total.Fatal.Injuries      11401\n",
       "Total.Serious.Injuries    12510\n",
       "Total.Minor.Injuries      11933\n",
       "Total.Uninjured            5912\n",
       "Weather.Condition          4492\n",
       "Broad.phase.of.flight     27165\n",
       "Report.Status              6384\n",
       "Publication.Date          13771\n",
       "dtype: int64"
      ]
     },
     "execution_count": 127,
     "metadata": {},
     "output_type": "execute_result"
    }
   ],
   "source": [
    "data.isnull().sum() # Shows number of missing values in each column."
   ]
  },
  {
   "cell_type": "markdown",
   "id": "463cb067-22de-4068-858c-8fc9e533d1b0",
   "metadata": {},
   "source": [
    "## standardizing"
   ]
  },
  {
   "cell_type": "code",
   "execution_count": 224,
   "id": "b1bd9959-f70a-4f22-bca4-6f92bd80449f",
   "metadata": {},
   "outputs": [
    {
     "data": {
      "text/plain": [
       "Index(['Event_Id', 'Investigation_Type', 'Accident_Number', 'Event_Date',\n",
       "       'Location', 'Country', 'Airport_Name', 'Injury_Severity',\n",
       "       'Aircraft_Damage', 'Aircraft_Category', 'Registration_Number', 'Make',\n",
       "       'Model', 'Amateur_Built', 'Number_Of_Engines', 'Engine_Type',\n",
       "       'Far_Description', 'Purpose_Of_Flight', 'Air_Carrier',\n",
       "       'Total_Fatal_Injuries', 'Total_Serious_Injuries',\n",
       "       'Total_Minor_Injuries', 'Total_Uninjured', 'Weather_Condition',\n",
       "       'Broad_Phase_Of_Flight', 'Total_Passengers', 'Fatal_Injury_Proportion',\n",
       "       'Fatal_Injury_Rate', 'Fatal_Injury_Ratio', 'Passengers_No',\n",
       "       'Uninjured_Ratio'],\n",
       "      dtype='object')"
      ]
     },
     "execution_count": 224,
     "metadata": {},
     "output_type": "execute_result"
    }
   ],
   "source": [
    "# interchanging dot to underscore for uniformity\n",
    "data.columns = data.columns.str.replace('.', '_').str.title()\n",
    "data.columns # checking changes made."
   ]
  },
  {
   "cell_type": "markdown",
   "id": "69f3d035-b22c-4635-af51-8fbec9479114",
   "metadata": {},
   "source": [
    "# Droping columns\n"
   ]
  },
  {
   "cell_type": "code",
   "execution_count": null,
   "id": "aa5b3078-392c-490d-aecd-477fe68ab929",
   "metadata": {
    "scrolled": true
   },
   "outputs": [],
   "source": [
    "# Latitude and longitude have too many missing values hence will use location.\n",
    "data.drop('Latitude', axis= 1, inplace = True)"
   ]
  },
  {
   "cell_type": "code",
   "execution_count": 136,
   "id": "d6beaf20-0c39-4eea-bd2b-115a03c88753",
   "metadata": {},
   "outputs": [
    {
     "data": {
      "text/html": [
       "<div>\n",
       "<style scoped>\n",
       "    .dataframe tbody tr th:only-of-type {\n",
       "        vertical-align: middle;\n",
       "    }\n",
       "\n",
       "    .dataframe tbody tr th {\n",
       "        vertical-align: top;\n",
       "    }\n",
       "\n",
       "    .dataframe thead th {\n",
       "        text-align: right;\n",
       "    }\n",
       "</style>\n",
       "<table border=\"1\" class=\"dataframe\">\n",
       "  <thead>\n",
       "    <tr style=\"text-align: right;\">\n",
       "      <th></th>\n",
       "      <th>Event_Id</th>\n",
       "      <th>Investigation_Type</th>\n",
       "      <th>Accident_Number</th>\n",
       "      <th>Event_Date</th>\n",
       "      <th>Location</th>\n",
       "      <th>Country</th>\n",
       "      <th>Longitude</th>\n",
       "      <th>Airport_Code</th>\n",
       "      <th>Airport_Name</th>\n",
       "      <th>Injury_Severity</th>\n",
       "      <th>...</th>\n",
       "      <th>Purpose_Of_Flight</th>\n",
       "      <th>Air_Carrier</th>\n",
       "      <th>Total_Fatal_Injuries</th>\n",
       "      <th>Total_Serious_Injuries</th>\n",
       "      <th>Total_Minor_Injuries</th>\n",
       "      <th>Total_Uninjured</th>\n",
       "      <th>Weather_Condition</th>\n",
       "      <th>Broad_Phase_Of_Flight</th>\n",
       "      <th>Report_Status</th>\n",
       "      <th>Publication_Date</th>\n",
       "    </tr>\n",
       "  </thead>\n",
       "  <tbody>\n",
       "    <tr>\n",
       "      <th>0</th>\n",
       "      <td>20001218X45444</td>\n",
       "      <td>Accident</td>\n",
       "      <td>SEA87LA080</td>\n",
       "      <td>1948-10-24</td>\n",
       "      <td>MOOSE CREEK, ID</td>\n",
       "      <td>United States</td>\n",
       "      <td>NaN</td>\n",
       "      <td>NaN</td>\n",
       "      <td>NaN</td>\n",
       "      <td>Fatal(2)</td>\n",
       "      <td>...</td>\n",
       "      <td>Personal</td>\n",
       "      <td>NaN</td>\n",
       "      <td>2.0</td>\n",
       "      <td>0.0</td>\n",
       "      <td>0.0</td>\n",
       "      <td>0.0</td>\n",
       "      <td>UNK</td>\n",
       "      <td>Cruise</td>\n",
       "      <td>Probable Cause</td>\n",
       "      <td>NaN</td>\n",
       "    </tr>\n",
       "    <tr>\n",
       "      <th>1</th>\n",
       "      <td>20001218X45447</td>\n",
       "      <td>Accident</td>\n",
       "      <td>LAX94LA336</td>\n",
       "      <td>1962-07-19</td>\n",
       "      <td>BRIDGEPORT, CA</td>\n",
       "      <td>United States</td>\n",
       "      <td>NaN</td>\n",
       "      <td>NaN</td>\n",
       "      <td>NaN</td>\n",
       "      <td>Fatal(4)</td>\n",
       "      <td>...</td>\n",
       "      <td>Personal</td>\n",
       "      <td>NaN</td>\n",
       "      <td>4.0</td>\n",
       "      <td>0.0</td>\n",
       "      <td>0.0</td>\n",
       "      <td>0.0</td>\n",
       "      <td>UNK</td>\n",
       "      <td>Unknown</td>\n",
       "      <td>Probable Cause</td>\n",
       "      <td>19-09-1996</td>\n",
       "    </tr>\n",
       "    <tr>\n",
       "      <th>2</th>\n",
       "      <td>20061025X01555</td>\n",
       "      <td>Accident</td>\n",
       "      <td>NYC07LA005</td>\n",
       "      <td>1974-08-30</td>\n",
       "      <td>Saltville, VA</td>\n",
       "      <td>United States</td>\n",
       "      <td>-81.878056</td>\n",
       "      <td>NaN</td>\n",
       "      <td>NaN</td>\n",
       "      <td>Fatal(3)</td>\n",
       "      <td>...</td>\n",
       "      <td>Personal</td>\n",
       "      <td>NaN</td>\n",
       "      <td>3.0</td>\n",
       "      <td>NaN</td>\n",
       "      <td>NaN</td>\n",
       "      <td>NaN</td>\n",
       "      <td>IMC</td>\n",
       "      <td>Cruise</td>\n",
       "      <td>Probable Cause</td>\n",
       "      <td>26-02-2007</td>\n",
       "    </tr>\n",
       "    <tr>\n",
       "      <th>3</th>\n",
       "      <td>20001218X45448</td>\n",
       "      <td>Accident</td>\n",
       "      <td>LAX96LA321</td>\n",
       "      <td>1977-06-19</td>\n",
       "      <td>EUREKA, CA</td>\n",
       "      <td>United States</td>\n",
       "      <td>NaN</td>\n",
       "      <td>NaN</td>\n",
       "      <td>NaN</td>\n",
       "      <td>Fatal(2)</td>\n",
       "      <td>...</td>\n",
       "      <td>Personal</td>\n",
       "      <td>NaN</td>\n",
       "      <td>2.0</td>\n",
       "      <td>0.0</td>\n",
       "      <td>0.0</td>\n",
       "      <td>0.0</td>\n",
       "      <td>IMC</td>\n",
       "      <td>Cruise</td>\n",
       "      <td>Probable Cause</td>\n",
       "      <td>12-09-2000</td>\n",
       "    </tr>\n",
       "    <tr>\n",
       "      <th>4</th>\n",
       "      <td>20041105X01764</td>\n",
       "      <td>Accident</td>\n",
       "      <td>CHI79FA064</td>\n",
       "      <td>1979-08-02</td>\n",
       "      <td>Canton, OH</td>\n",
       "      <td>United States</td>\n",
       "      <td>NaN</td>\n",
       "      <td>NaN</td>\n",
       "      <td>NaN</td>\n",
       "      <td>Fatal(1)</td>\n",
       "      <td>...</td>\n",
       "      <td>Personal</td>\n",
       "      <td>NaN</td>\n",
       "      <td>1.0</td>\n",
       "      <td>2.0</td>\n",
       "      <td>NaN</td>\n",
       "      <td>0.0</td>\n",
       "      <td>VMC</td>\n",
       "      <td>Approach</td>\n",
       "      <td>Probable Cause</td>\n",
       "      <td>16-04-1980</td>\n",
       "    </tr>\n",
       "  </tbody>\n",
       "</table>\n",
       "<p>5 rows × 29 columns</p>\n",
       "</div>"
      ],
      "text/plain": [
       "         Event_Id Investigation_Type Accident_Number  Event_Date  \\\n",
       "0  20001218X45444           Accident      SEA87LA080  1948-10-24   \n",
       "1  20001218X45447           Accident      LAX94LA336  1962-07-19   \n",
       "2  20061025X01555           Accident      NYC07LA005  1974-08-30   \n",
       "3  20001218X45448           Accident      LAX96LA321  1977-06-19   \n",
       "4  20041105X01764           Accident      CHI79FA064  1979-08-02   \n",
       "\n",
       "          Location        Country   Longitude Airport_Code Airport_Name  \\\n",
       "0  MOOSE CREEK, ID  United States         NaN          NaN          NaN   \n",
       "1   BRIDGEPORT, CA  United States         NaN          NaN          NaN   \n",
       "2    Saltville, VA  United States  -81.878056          NaN          NaN   \n",
       "3       EUREKA, CA  United States         NaN          NaN          NaN   \n",
       "4       Canton, OH  United States         NaN          NaN          NaN   \n",
       "\n",
       "  Injury_Severity  ... Purpose_Of_Flight Air_Carrier Total_Fatal_Injuries  \\\n",
       "0        Fatal(2)  ...          Personal         NaN                  2.0   \n",
       "1        Fatal(4)  ...          Personal         NaN                  4.0   \n",
       "2        Fatal(3)  ...          Personal         NaN                  3.0   \n",
       "3        Fatal(2)  ...          Personal         NaN                  2.0   \n",
       "4        Fatal(1)  ...          Personal         NaN                  1.0   \n",
       "\n",
       "  Total_Serious_Injuries Total_Minor_Injuries Total_Uninjured  \\\n",
       "0                    0.0                  0.0             0.0   \n",
       "1                    0.0                  0.0             0.0   \n",
       "2                    NaN                  NaN             NaN   \n",
       "3                    0.0                  0.0             0.0   \n",
       "4                    2.0                  NaN             0.0   \n",
       "\n",
       "   Weather_Condition Broad_Phase_Of_Flight   Report_Status Publication_Date  \n",
       "0                UNK                Cruise  Probable Cause              NaN  \n",
       "1                UNK               Unknown  Probable Cause       19-09-1996  \n",
       "2                IMC                Cruise  Probable Cause       26-02-2007  \n",
       "3                IMC                Cruise  Probable Cause       12-09-2000  \n",
       "4                VMC              Approach  Probable Cause       16-04-1980  \n",
       "\n",
       "[5 rows x 29 columns]"
      ]
     },
     "execution_count": 136,
     "metadata": {},
     "output_type": "execute_result"
    }
   ],
   "source": [
    "data.head()"
   ]
  },
  {
   "cell_type": "code",
   "execution_count": 137,
   "id": "f4aee6c2-9405-4bf3-966d-8c8e70812850",
   "metadata": {},
   "outputs": [],
   "source": [
    "data.drop('Longitude', axis=1, inplace=True)"
   ]
  },
  {
   "cell_type": "code",
   "execution_count": 141,
   "id": "ab1c5671-0b42-4ddb-a1a5-2869c0e2c86b",
   "metadata": {},
   "outputs": [],
   "source": [
    "data.drop('Airport_Code', axis=1, inplace=True)# Will use Airport_name"
   ]
  },
  {
   "cell_type": "code",
   "execution_count": 140,
   "id": "32b83a30-264a-40f6-a5d3-f9474c077b6a",
   "metadata": {},
   "outputs": [],
   "source": [
    "data.drop('Report_Status', axis=1, inplace=True) #not important to objectives"
   ]
  },
  {
   "cell_type": "code",
   "execution_count": 144,
   "id": "e16f05f6-571e-48aa-a1ad-d036c08b30c1",
   "metadata": {},
   "outputs": [],
   "source": [
    "data.drop('Publication_Date', axis=1, inplace=True)# not important to objectives"
   ]
  },
  {
   "cell_type": "code",
   "execution_count": null,
   "id": "6e260cfb-fcb2-4d3c-b2bd-8de90c20e669",
   "metadata": {},
   "outputs": [],
   "source": [
    "data.drop['Far_Description', axis=1, inplace=True]"
   ]
  },
  {
   "cell_type": "code",
   "execution_count": null,
   "id": "338670be-2286-43da-8b12-3002e73da9b6",
   "metadata": {},
   "outputs": [],
   "source": []
  },
  {
   "cell_type": "markdown",
   "id": "27fc8198-91e5-4ea9-bbc0-182c1cdce4e4",
   "metadata": {},
   "source": [
    "Filling missing values."
   ]
  },
  {
   "cell_type": "code",
   "execution_count": 200,
   "id": "ecb60f98-467c-4776-be65-e513de05130f",
   "metadata": {},
   "outputs": [],
   "source": [
    " # The make column is important for knowing which safe business or private plane is needed to be purchased.\n",
    "data['Make'].fillna(value = 'None', inplace=True)"
   ]
  },
  {
   "cell_type": "code",
   "execution_count": 201,
   "id": "dc175f52-640f-4c20-91d3-6d0f6ea5e49d",
   "metadata": {},
   "outputs": [],
   "source": [
    "# Missing value for total uninjured column is set to zero fir statistical analysis below.\n",
    "data['Total_Uninjured'].fillna(value = 0, inplace=True)"
   ]
  },
  {
   "cell_type": "code",
   "execution_count": 204,
   "id": "825ab94a-0c02-408e-a538-4d564160130c",
   "metadata": {},
   "outputs": [],
   "source": [
    "data['Aircraft_Damage'].fillna(value = 'Minor', inplace=True)"
   ]
  },
  {
   "cell_type": "code",
   "execution_count": 202,
   "id": "635e3552-e6fe-4aa7-b112-53dca3fb1ef8",
   "metadata": {},
   "outputs": [],
   "source": [
    "data['Broad_Phase_Of_Flight'].fillna(value = 'Unknown', inplace=True)"
   ]
  },
  {
   "cell_type": "code",
   "execution_count": 235,
   "id": "0b4f13a1-ee9c-493d-bafc-3dbe06cc842b",
   "metadata": {},
   "outputs": [],
   "source": [
    "data['Total_Fatal_Injuries'].fillna(value = 0, inplace=True)"
   ]
  },
  {
   "cell_type": "code",
   "execution_count": 236,
   "id": "6f34a708-d427-46b8-bcab-d32720125374",
   "metadata": {},
   "outputs": [],
   "source": [
    "data['Total_Serious_Injuries'].fillna(value = 0, inplace=True)"
   ]
  },
  {
   "cell_type": "code",
   "execution_count": 237,
   "id": "5aea3341-f1a8-49b7-be51-7fc6ec3660c7",
   "metadata": {},
   "outputs": [],
   "source": [
    "data['Total_Minor_Injuries'].fillna(value = 0, inplace=True)"
   ]
  },
  {
   "cell_type": "code",
   "execution_count": 151,
   "id": "cae15373-3562-4f45-b99c-ba2d1dfa1b8e",
   "metadata": {},
   "outputs": [
    {
     "data": {
      "text/plain": [
       "0        0.0\n",
       "1        0.0\n",
       "2        0.0\n",
       "3        0.0\n",
       "4        0.0\n",
       "        ... \n",
       "88884    0.0\n",
       "88885    0.0\n",
       "88886    1.0\n",
       "88887    0.0\n",
       "88888    1.0\n",
       "Name: Total_Uninjured, Length: 88889, dtype: float64"
      ]
     },
     "execution_count": 151,
     "metadata": {},
     "output_type": "execute_result"
    }
   ],
   "source": [
    "data['Total_Uninjured']"
   ]
  },
  {
   "cell_type": "markdown",
   "id": "b8b18d66-779a-4b73-914c-c2420ca2d0b0",
   "metadata": {},
   "source": [
    "Creating column for passengers"
   ]
  },
  {
   "cell_type": "code",
   "execution_count": 168,
   "id": "0ac97282-ae25-45f6-ae34-8eabe36eaa19",
   "metadata": {},
   "outputs": [],
   "source": [
    "data['Passengers_No'] = data['Total_Fatal_Injuries'] + data['Total_Serious_Injuries'] + data['Total_Minor_Injuries'] + data['Total_Uninjured']"
   ]
  },
  {
   "cell_type": "markdown",
   "id": "feda294d-c5ad-463c-b09d-f7250c5275ee",
   "metadata": {},
   "source": [
    "Calculating ratio for uninjured and injured passengers"
   ]
  },
  {
   "cell_type": "code",
   "execution_count": 169,
   "id": "65abb27a-9d83-44a0-92aa-c2cc18a1647f",
   "metadata": {},
   "outputs": [],
   "source": [
    "data['Uninjured_Ratio'] = data['Total_Uninjured'] / data['Passengers_No']"
   ]
  },
  {
   "cell_type": "code",
   "execution_count": 170,
   "id": "856117bd-e4ac-4eea-b403-e8f5fc6c13e4",
   "metadata": {},
   "outputs": [],
   "source": [
    "data['Fatal_Injury_Ratio'] = data['Total_Fatal_Injuries'] / data['Passengers_No']"
   ]
  },
  {
   "cell_type": "markdown",
   "id": "597e61c7-dc5a-405f-bea5-5fc213157b90",
   "metadata": {},
   "source": [
    "Get a boolean mask where True indicates a row with any NaN in the specified columns"
   ]
  },
  {
   "cell_type": "code",
   "execution_count": 172,
   "id": "70eb695c-0b7c-4c4d-8b0b-7411e48b1f84",
   "metadata": {},
   "outputs": [],
   "source": [
    "mask = data[['Total_Fatal_Injuries', 'Total_Serious_Injuries', 'Total_Minor_Injuries', 'Total_Uninjured', 'Fatal_Injury_Ratio', 'Uninjured_Ratio']].isna().any(axis=1)\n",
    "data = data[~mask] #filter out rows with Nan"
   ]
  },
  {
   "cell_type": "markdown",
   "id": "72f3e5cd-fd1b-4eae-b5fe-c1dbb4120487",
   "metadata": {},
   "source": [
    "next"
   ]
  },
  {
   "cell_type": "code",
   "execution_count": 173,
   "id": "abbcc92f-bc92-4fb6-b8db-3eff4fc98fc7",
   "metadata": {},
   "outputs": [],
   "source": [
    "# Create new dataframe of the top main manufacturers"
   ]
  },
  {
   "cell_type": "code",
   "execution_count": 175,
   "id": "05eb6a29-a540-49b3-92ac-0fe164079037",
   "metadata": {},
   "outputs": [
    {
     "data": {
      "text/plain": [
       "array(['Stinson', 'Piper', 'Rockwell', ..., 'JAMES R DERNOVSEK',\n",
       "       'ORLICAN S R O', 'ROYSE RALPH L'], dtype=object)"
      ]
     },
     "execution_count": 175,
     "metadata": {},
     "output_type": "execute_result"
    }
   ],
   "source": [
    "data['Make'].unique()"
   ]
  },
  {
   "cell_type": "code",
   "execution_count": 180,
   "id": "7a398f92-d0a2-41ee-b680-96cbc59ce571",
   "metadata": {},
   "outputs": [
    {
     "data": {
      "text/html": [
       "<div>\n",
       "<style scoped>\n",
       "    .dataframe tbody tr th:only-of-type {\n",
       "        vertical-align: middle;\n",
       "    }\n",
       "\n",
       "    .dataframe tbody tr th {\n",
       "        vertical-align: top;\n",
       "    }\n",
       "\n",
       "    .dataframe thead th {\n",
       "        text-align: right;\n",
       "    }\n",
       "</style>\n",
       "<table border=\"1\" class=\"dataframe\">\n",
       "  <thead>\n",
       "    <tr style=\"text-align: right;\">\n",
       "      <th></th>\n",
       "      <th>Event_Id</th>\n",
       "      <th>Investigation_Type</th>\n",
       "      <th>Accident_Number</th>\n",
       "      <th>Event_Date</th>\n",
       "      <th>Location</th>\n",
       "      <th>Country</th>\n",
       "      <th>Airport_Name</th>\n",
       "      <th>Injury_Severity</th>\n",
       "      <th>Aircraft_Damage</th>\n",
       "      <th>Aircraft_Category</th>\n",
       "      <th>...</th>\n",
       "      <th>Total_Minor_Injuries</th>\n",
       "      <th>Total_Uninjured</th>\n",
       "      <th>Weather_Condition</th>\n",
       "      <th>Broad_Phase_Of_Flight</th>\n",
       "      <th>Total_Passengers</th>\n",
       "      <th>Fatal_Injury_Proportion</th>\n",
       "      <th>Fatal_Injury_Rate</th>\n",
       "      <th>Fatal_Injury_Ratio</th>\n",
       "      <th>Passengers_No</th>\n",
       "      <th>Uninjured_Ratio</th>\n",
       "    </tr>\n",
       "  </thead>\n",
       "  <tbody>\n",
       "    <tr>\n",
       "      <th>6</th>\n",
       "      <td>20001218X45446</td>\n",
       "      <td>Accident</td>\n",
       "      <td>CHI81LA106</td>\n",
       "      <td>1981-08-01</td>\n",
       "      <td>COTTON, MN</td>\n",
       "      <td>United States</td>\n",
       "      <td>NaN</td>\n",
       "      <td>Fatal(4)</td>\n",
       "      <td>Destroyed</td>\n",
       "      <td>NaN</td>\n",
       "      <td>...</td>\n",
       "      <td>0.0</td>\n",
       "      <td>0.0</td>\n",
       "      <td>IMC</td>\n",
       "      <td>Unknown</td>\n",
       "      <td>4.0</td>\n",
       "      <td>1.0</td>\n",
       "      <td>1.0</td>\n",
       "      <td>1.0</td>\n",
       "      <td>4.0</td>\n",
       "      <td>0.0</td>\n",
       "    </tr>\n",
       "    <tr>\n",
       "      <th>7</th>\n",
       "      <td>20020909X01562</td>\n",
       "      <td>Accident</td>\n",
       "      <td>SEA82DA022</td>\n",
       "      <td>1982-01-01</td>\n",
       "      <td>PULLMAN, WA</td>\n",
       "      <td>United States</td>\n",
       "      <td>BLACKBURN AG STRIP</td>\n",
       "      <td>Non-Fatal</td>\n",
       "      <td>Substantial</td>\n",
       "      <td>Airplane</td>\n",
       "      <td>...</td>\n",
       "      <td>0.0</td>\n",
       "      <td>2.0</td>\n",
       "      <td>VMC</td>\n",
       "      <td>Takeoff</td>\n",
       "      <td>2.0</td>\n",
       "      <td>0.0</td>\n",
       "      <td>0.0</td>\n",
       "      <td>0.0</td>\n",
       "      <td>2.0</td>\n",
       "      <td>1.0</td>\n",
       "    </tr>\n",
       "    <tr>\n",
       "      <th>8</th>\n",
       "      <td>20020909X01561</td>\n",
       "      <td>Accident</td>\n",
       "      <td>NYC82DA015</td>\n",
       "      <td>1982-01-01</td>\n",
       "      <td>EAST HANOVER, NJ</td>\n",
       "      <td>United States</td>\n",
       "      <td>HANOVER</td>\n",
       "      <td>Non-Fatal</td>\n",
       "      <td>Substantial</td>\n",
       "      <td>Airplane</td>\n",
       "      <td>...</td>\n",
       "      <td>0.0</td>\n",
       "      <td>2.0</td>\n",
       "      <td>IMC</td>\n",
       "      <td>Landing</td>\n",
       "      <td>2.0</td>\n",
       "      <td>0.0</td>\n",
       "      <td>0.0</td>\n",
       "      <td>0.0</td>\n",
       "      <td>2.0</td>\n",
       "      <td>1.0</td>\n",
       "    </tr>\n",
       "    <tr>\n",
       "      <th>13</th>\n",
       "      <td>20020917X02134</td>\n",
       "      <td>Accident</td>\n",
       "      <td>FTW82FRA14</td>\n",
       "      <td>1982-01-02</td>\n",
       "      <td>HEARNE, TX</td>\n",
       "      <td>United States</td>\n",
       "      <td>HEARNE MUNICIPAL</td>\n",
       "      <td>Fatal(1)</td>\n",
       "      <td>Destroyed</td>\n",
       "      <td>Airplane</td>\n",
       "      <td>...</td>\n",
       "      <td>0.0</td>\n",
       "      <td>0.0</td>\n",
       "      <td>IMC</td>\n",
       "      <td>Takeoff</td>\n",
       "      <td>1.0</td>\n",
       "      <td>1.0</td>\n",
       "      <td>1.0</td>\n",
       "      <td>1.0</td>\n",
       "      <td>1.0</td>\n",
       "      <td>0.0</td>\n",
       "    </tr>\n",
       "    <tr>\n",
       "      <th>17</th>\n",
       "      <td>20020917X01656</td>\n",
       "      <td>Accident</td>\n",
       "      <td>ANC82FAG14</td>\n",
       "      <td>1982-01-02</td>\n",
       "      <td>SKWENTA, AK</td>\n",
       "      <td>United States</td>\n",
       "      <td>NaN</td>\n",
       "      <td>Fatal(3)</td>\n",
       "      <td>Destroyed</td>\n",
       "      <td>Airplane</td>\n",
       "      <td>...</td>\n",
       "      <td>0.0</td>\n",
       "      <td>0.0</td>\n",
       "      <td>VMC</td>\n",
       "      <td>Unknown</td>\n",
       "      <td>3.0</td>\n",
       "      <td>1.0</td>\n",
       "      <td>1.0</td>\n",
       "      <td>1.0</td>\n",
       "      <td>3.0</td>\n",
       "      <td>0.0</td>\n",
       "    </tr>\n",
       "  </tbody>\n",
       "</table>\n",
       "<p>5 rows × 31 columns</p>\n",
       "</div>"
      ],
      "text/plain": [
       "          Event_Id Investigation_Type Accident_Number  Event_Date  \\\n",
       "6   20001218X45446           Accident      CHI81LA106  1981-08-01   \n",
       "7   20020909X01562           Accident      SEA82DA022  1982-01-01   \n",
       "8   20020909X01561           Accident      NYC82DA015  1982-01-01   \n",
       "13  20020917X02134           Accident      FTW82FRA14  1982-01-02   \n",
       "17  20020917X01656           Accident      ANC82FAG14  1982-01-02   \n",
       "\n",
       "            Location        Country        Airport_Name Injury_Severity  \\\n",
       "6         COTTON, MN  United States                 NaN        Fatal(4)   \n",
       "7        PULLMAN, WA  United States  BLACKBURN AG STRIP       Non-Fatal   \n",
       "8   EAST HANOVER, NJ  United States             HANOVER       Non-Fatal   \n",
       "13        HEARNE, TX  United States    HEARNE MUNICIPAL        Fatal(1)   \n",
       "17       SKWENTA, AK  United States                 NaN        Fatal(3)   \n",
       "\n",
       "   Aircraft_Damage Aircraft_Category  ... Total_Minor_Injuries  \\\n",
       "6        Destroyed               NaN  ...                  0.0   \n",
       "7      Substantial          Airplane  ...                  0.0   \n",
       "8      Substantial          Airplane  ...                  0.0   \n",
       "13       Destroyed          Airplane  ...                  0.0   \n",
       "17       Destroyed          Airplane  ...                  0.0   \n",
       "\n",
       "   Total_Uninjured Weather_Condition Broad_Phase_Of_Flight  Total_Passengers  \\\n",
       "6              0.0               IMC               Unknown               4.0   \n",
       "7              2.0               VMC               Takeoff               2.0   \n",
       "8              2.0               IMC               Landing               2.0   \n",
       "13             0.0               IMC               Takeoff               1.0   \n",
       "17             0.0               VMC               Unknown               3.0   \n",
       "\n",
       "   Fatal_Injury_Proportion Fatal_Injury_Rate Fatal_Injury_Ratio Passengers_No  \\\n",
       "6                      1.0               1.0                1.0           4.0   \n",
       "7                      0.0               0.0                0.0           2.0   \n",
       "8                      0.0               0.0                0.0           2.0   \n",
       "13                     1.0               1.0                1.0           1.0   \n",
       "17                     1.0               1.0                1.0           3.0   \n",
       "\n",
       "    Uninjured_Ratio  \n",
       "6               0.0  \n",
       "7               1.0  \n",
       "8               1.0  \n",
       "13              0.0  \n",
       "17              0.0  \n",
       "\n",
       "[5 rows x 31 columns]"
      ]
     },
     "execution_count": 180,
     "metadata": {},
     "output_type": "execute_result"
    }
   ],
   "source": [
    "main_manufacturers = ['Boeing', 'Bombardier', 'Airbus', 'Cessna', 'Embraer', 'Dassault', 'Lockheed', 'Gulfstream']\n",
    "main_makes = data[data['Make'].isin(main_manufacturers)] # Use the isin() function to filter the DataFrame\n",
    "main_makes.head()"
   ]
  },
  {
   "cell_type": "code",
   "execution_count": null,
   "id": "bd1798c5-206c-4f47-977b-9f1f0e2cdd68",
   "metadata": {},
   "outputs": [],
   "source": []
  },
  {
   "cell_type": "code",
   "execution_count": 188,
   "id": "82675e63-9cdd-4564-b16d-e48ae48d1b28",
   "metadata": {},
   "outputs": [
    {
     "data": {
      "image/png": "[encoded data removed]",
      "text/plain": [
       "<Figure size 1000x1500 with 3 Axes>"
      ]
     },
     "metadata": {},
     "output_type": "display_data"
    }
   ],
   "source": [
    "# Group and calculate mean\n",
    "grouped_df =main_makes.groupby(['Make'])[['Total_Fatal_Injuries', 'Total_Minor_Injuries', 'Total_Serious_Injuries']].mean()\n",
    "\n",
    "# Sort values\n",
    "sorted_df = grouped_df.sort_values(by='Total_Fatal_Injuries', ascending=True)\n",
    "\n",
    "# Creates a new figure and a set of subplots\n",
    "fig, axs = plt.subplots(3, 1, figsize=(10, 15))\n",
    "\n",
    "# Creates individual bar plots\n",
    "sorted_df['Total_Fatal_Injuries'].plot(kind='bar', ax=axs[0], color='blue')\n",
    "sorted_df['Total_Minor_Injuries'].plot(kind='bar', ax=axs[1], color='blue')\n",
    "sorted_df['Total_Serious_Injuries'].plot(kind='bar', ax=axs[2], color='blue')\n",
    "\n",
    "# Sets titles and labels\n",
    "axs[0].set_title('Average Fatal Injuries by Make')\n",
    "axs[1].set_title('Average Minor Injuries by Make')\n",
    "axs[2].set_title('Average Serious Injuries by Make')\n",
    "\n",
    "for ax in axs:\n",
    "    ax.set_xlabel('Make')\n",
    "    ax.set_ylabel('Average Number of Injuries')\n",
    "\n",
    "# Adjusts layout and rotate x-axis labels\n",
    "plt.tight_layout()\n",
    "plt.xticks(rotation=45)\n",
    "\n",
    "# Show the plot\n",
    "plt.show()"
   ]
  },
  {
   "cell_type": "markdown",
   "id": "33663060-7429-4f00-b1d6-e5bdb0625912",
   "metadata": {},
   "source": [
    "conclusion"
   ]
  },
  {
   "cell_type": "markdown",
   "id": "c8b661e3-a28a-4b98-8c52-c85aae57415b",
   "metadata": {},
   "source": [
    "1. As seen from the graphs above airbus has significantly less average injuries in all three\n",
    "categoriies which are minor injuries, serious injuries and fatal injuries."
   ]
  },
  {
   "cell_type": "markdown",
   "id": "c30f0631-d18b-4c51-aa38-39d58a870fd0",
   "metadata": {},
   "source": [
    "2. Airbus also has close none fatal injuries which is a an improtant advantage fatal injuries\n",
    "mostly mean death or near death experience which is bad for business."
   ]
  },
  {
   "cell_type": "markdown",
   "id": "47a197ca-2232-4edf-a0a7-a774db8809f0",
   "metadata": {},
   "source": [
    "3. Cessna aircraft as seen from the bar graphs has the least average injuries in all three categories\n",
    "compared to the rest of which gulfstream althoungh has higher injuries than cessna, their planes also\n",
    "have low average injuries count. "
   ]
  },
  {
   "cell_type": "markdown",
   "id": "648ed2a4-664c-4519-9233-a56fd027a12b",
   "metadata": {},
   "source": [
    "Recommendations"
   ]
  },
  {
   "cell_type": "markdown",
   "id": "939cfe25-d778-40e9-a6ed-cfed8990451d",
   "metadata": {},
   "source": [
    "I am recommending the purchase of Airbus planes for our commercial division this is due to our dataset which indicates close to zero fatal injuries in an Airbus accident and also a smaller number of average minor injuries.The make Boeing is one of its major competitor in commercial aircraft enterprise but has higher injury rates in both fatal injuries and minor injuries as seen from the graph. from research Airbus last year delivered more aircraft and landed more orders than Boeing. the most ordered airbus is A320."
   ]
  },
  {
   "cell_type": "markdown",
   "id": "fa9f1f81-3f17-4663-a71a-5124e61d2af0",
   "metadata": {},
   "source": [
    "Cessna jets are more appropriate for a private enterprise because cessna as seen from the graphs appears\n",
    "to be the safest manufacturer of private jets as it has the lowest average injuries in all categories. Research also dictates that Cessna is reknown for its excellent performance and advanced technological features."
   ]
  },
  {
   "cell_type": "markdown",
   "id": "e74fc32c-c0b7-495e-b06f-38399203fa27",
   "metadata": {},
   "source": [
    "For cost-effectiveness in purchasing private jets, the gulfstream would be prefferable to cessna since its \n",
    "average injury rate as seen in the graphs is slightly higher and from research it is cost effective, luxurious and has good performance.  "
   ]
  },
  {
   "cell_type": "markdown",
   "id": "f860d412-2016-4b50-a462-3b8ed3bf40c6",
   "metadata": {},
   "source": [
    "The Lockheed make as seen from the bar graphs appears to be the most unsafe aircraft hence it will be ill \n",
    "advised to purchase one."
   ]
  }
 ],
 "metadata": {
  "kernelspec": {
   "display_name": "Python (learn-env)",
   "language": "python",
   "name": "learn-env"
  },
  "language_info": {
   "codemirror_mode": {
    "name": "ipython",
    "version": 3
   },
   "file_extension": ".py",
   "mimetype": "text/x-python",
   "name": "python",
   "nbconvert_exporter": "python",
   "pygments_lexer": "ipython3",
   "version": "3.11.7"
  }
 },
 "nbformat": 4,
 "nbformat_minor": 5
}
